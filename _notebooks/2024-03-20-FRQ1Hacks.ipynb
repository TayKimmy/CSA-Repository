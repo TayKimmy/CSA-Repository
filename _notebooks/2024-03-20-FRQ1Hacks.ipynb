{
 "cells": [
  {
   "cell_type": "markdown",
   "metadata": {},
   "source": [
    "---\n",
    "toc: true\n",
    "layout: post\n",
    "title: Methods & Control Structures Hacks\n",
    "type: hacks\n",
    "courses: { csa: {week: 29} }\n",
    "---"
   ]
  },
  {
   "cell_type": "markdown",
   "metadata": {},
   "source": [
    "## Question 2: Iteration over 2D arrays (Unit 4)\n",
    "\n",
    "Situation: You are developing a game where you need to track player scores on a 2D grid representing levels and attempts.\n",
    "\n",
    "(a) Explain the concept of iteration over a 2D array in Java. Provide an example scenario where iterating over a 2D array is useful in a programming task.\n",
    "Iterating over a 2D array in Java means iterating over each element in the array, typically through nested for loops to iterate through both the rows and columns. This allows the user to access and use each element in the array. An example of a 2D Array is a gradebook, where the rows can represent students and the columns can represent the student's scores.\n",
    "\n",
    "(b) Code:\n",
    "\n",
    "You need to implement a method `calculateTotalScore` that takes a 2D array scores of integers representing player scores and returns the sum of all the elements in the array. Write the method signature and the method implementation. Include comments to explain your code."
   ]
  },
  {
   "cell_type": "code",
   "execution_count": 1,
   "metadata": {},
   "outputs": [
    {
     "name": "stdout",
     "output_type": "stream",
     "text": [
      "Total score: 165\n"
     ]
    }
   ],
   "source": [
    "public class Game {\n",
    "    public static int calculateTotalScore(int[][] scores) {\n",
    "        int totalScore = 0; // initializing the variable to store the scores\n",
    "\n",
    "        for (int i = 0; i < scores.length; i++) { // iterating through rows\n",
    "            for (int j = 0; j < scores[i].length; j++) { // iterating through columns\n",
    "                totalScore += scores[i][j]; // adding values to the score variable\n",
    "            }\n",
    "        }\n",
    "        return totalScore; // return the total score\n",
    "    }\n",
    "    public static void main(String[] args) { // implementation\n",
    "        int[][] playerScores = {\n",
    "            {10, 20, 30},\n",
    "            {15, 25, 35},\n",
    "            {5, 10, 15}\n",
    "        };\n",
    "\n",
    "        int totalScore = calculateTotalScore(playerScores);\n",
    "        System.out.println(\"Total score: \" + totalScore);\n",
    "    }\n",
    "}\n",
    "Game.main(null);"
   ]
  },
  {
   "cell_type": "markdown",
   "metadata": {},
   "source": [
    "## Question 3: Array (Unit 6)\n",
    "Situation: You are developing a student management system where you need to store and analyze the grades of students in a class.\n",
    "\n",
    "(a) Define an array in Java. Explain its significance and usefulness in programming.\n",
    "An array is a data structure that allows people to store multiple values of the same type in a single variable. Elements are stored sequentially and provide a convenient way to manage data, such as numbers, characters, and objects. They can be easily accessed, manipulated, or iterated, making them useful for tasks involving data storage and processing.\n",
    "\n",
    "(b) Code:\n",
    "\n",
    "You need to implement a method calculateAverageGrade that takes an array grades of integers representing student grades and returns the average of all the elements in the array. Write the method signature and the method implementation. Include comments to explain your code."
   ]
  },
  {
   "cell_type": "code",
   "execution_count": 2,
   "metadata": {},
   "outputs": [
    {
     "name": "stdout",
     "output_type": "stream",
     "text": [
      "Average Grade: 86.0\n"
     ]
    }
   ],
   "source": [
    "public class Grade {\n",
    "    public static double calculateAverageGrade(int[] grades) {\n",
    "        int sum = 0; // initalizing variables for the sum and the count\n",
    "        int count = grades.length;\n",
    "        \n",
    "        for (int i = 0; i < grades.length; i++) { // iterating over the array\n",
    "            sum += grades[i]; // adding the numbers to the sum\n",
    "        }\n",
    "        double average = (double) sum / count; // finding the average by diving total/count\n",
    "\n",
    "        return average; // return average grade\n",
    "    }\n",
    "\n",
    "    public static void main(String[] args) { // implementation\n",
    "        int[] studentGrades = {85, 90, 75, 92, 88};\n",
    "        \n",
    "        double averageGrade = calculateAverageGrade(studentGrades);\n",
    "        \n",
    "        System.out.println(\"Average Grade: \" + averageGrade);\n",
    "    }\n",
    "}\n",
    "Grade.main(null);"
   ]
  }
 ],
 "metadata": {
  "kernelspec": {
   "display_name": "Java",
   "language": "java",
   "name": "java"
  },
  "language_info": {
   "codemirror_mode": "java",
   "file_extension": ".jshell",
   "mimetype": "text/x-java-source",
   "name": "java",
   "pygments_lexer": "java",
   "version": "17.0.8+7-Ubuntu-120.04.2"
  }
 },
 "nbformat": 4,
 "nbformat_minor": 2
}
