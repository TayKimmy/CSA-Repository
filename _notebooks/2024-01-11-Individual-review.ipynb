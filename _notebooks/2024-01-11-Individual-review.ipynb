{
 "cells": [
  {
   "cell_type": "markdown",
   "metadata": {},
   "source": [
    "---\n",
    "layout: post\n",
    "title: Individual Review Blog\n",
    "description: Contains all the assets, preparations, and contributions for Collegeboard and past projects\n",
    "courses: { csa: {week: 18} }\n",
    "type: plans\n",
    "---"
   ]
  },
  {
   "cell_type": "markdown",
   "metadata": {},
   "source": [
    "## Key Projects\n",
    "\n",
    "| Projects/Assets/Issues | Short description |\n",
    "| - | - |\n",
    "| [Tri 1 Project Runtime](https://cosmic.nighthawkcodingsociety.com/) | Me and my group made a space-themed website with multiple different aspects, including a quiz,game, and spacebook. |\n",
    "| [Tri 1 Frontend](https://github.com/Cosmic-Carnage/Passion-Project) | I worked on fetching from the backend to make the quiz and different leaderboards work. I also added some Javascript for certain functions in the quiz. |\n",
    "| [Tri 1 Backend](https://github.com/Cosmic-Carnage/cosmic_backend_final) | I worked on the quiz, the quiz leaderboard, and the game leaderboard. Using a hashmap for the leaderbaords and an ArrayList for the quiz questions, I was able to create backend databases that could be fetched in the frontend.  |\n",
    "| [Tri 1 Project Scrum Board](https://github.com/orgs/Cosmic-Carnage/projects/2) | There are a lot of different tasks assigned to different members, showing how well we communicated and shared responsibilities. |\n",
    "| [Tri 1 Project Issues](https://github.com/Cosmic-Carnage/Issues/issues) | There are an extensive amount of issues indicating our teamwork and collaboration. |\n",
    "| [Tri 2 Mini-Project Runtime](https://tee-csa.github.io/TEE-Frontend/) | We worked on a racing game with betting to visualize fibonacci and sorting. |\n",
    "| [Tri 2 Mini-Project Frontend](https://github.com/TEE-CSA/TEE-Frontend) | I was responsible for the fibonacci frontend, and I worked on getting the cars to move with their proper algorithm time and all users to input array lengths. |\n",
    "| [Tri 2 Mini-Project Backend](https://github.com/TEE-CSA/TEEBackend) | I worked on the fibonacci backend, using inheritance and adding all the methods for the fibonacci algorithms and timing. |\n",
    "| [Tri 2 Mini-Project Issues](https://github.com/TEE-CSA/TEE-Frontend/issues) | We have a couple of issues showing what we need to work on as well as sharing responsibilities. |\n",
    "| [Tri 2-3 Project Scrum Board](https://github.com/orgs/The-GPT-Warriors/projects/1/views/1) | This is a scrum board that I made for our tri 2-3 project. There are a couple of tasks now and more will be added. |\n",
    "| [Tri 2-3 Project Organization](https://github.com/The-GPT-Warriors) | I also created an organization on GitHub for our project so we can store our repositories in one place. Our project will utilize machine learning and online databases to allow a webcam to look at a person performing sign language and translate it into English.  |\n",
    "\n",
    "## Collegeboard Prep\n",
    "- [2015 Blog](https://taykimmy.github.io/CSA-Repository//2023/12/21/Collegeboard-Quiz_IPYNB_2_.html)\n",
    "- Consistent problems that I had for both 2014 and 2015 MCQ's:\n",
    "    - Struggles with binary logic and operators\n",
    "    - Struggles with nested and complicated for/while loops\n",
    "    - Long code problems\n",
    "    - Specific Java functions\n",
    "\n",
    "## GitHub Commits\n",
    "<img width=\"800\" alt=\"image\" src=\"https://github.com/TayKimmy/CSA-Repository/assets/107821010/e2fcced8-f61b-459d-857b-a1aa5894280b\">\n",
    "\n",
    "## What I look forward to in my upcoming Project\n",
    "Our upcoming project utilizes machine learning models for sign language. I have experience with machine learning as I have done research with it over the summer and right now too, and doing a CSA project on ML with sign language will further my experience and knowledge on ML. I also hope it will improve my skills with data science and other computer topics. I really look forward to working on this project with teammates and working on something that may possibly be helpful toward college/program applications.\n",
    "\n",
    "\n",
    "\n",
    "#### Also, I got 0.9 on JWT because link was not working the first time"
   ]
  }
 ],
 "metadata": {
  "kernelspec": {
   "display_name": "Java",
   "language": "java",
   "name": "java"
  },
  "language_info": {
   "name": "java"
  }
 },
 "nbformat": 4,
 "nbformat_minor": 2
}
