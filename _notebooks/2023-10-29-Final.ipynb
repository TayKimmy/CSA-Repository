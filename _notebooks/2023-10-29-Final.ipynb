{
 "cells": [
  {
   "cell_type": "markdown",
   "metadata": {},
   "source": [
    "---\n",
    "layout: post\n",
    "title: Final Project - Individual\n",
    "description: My plans and reviews for the Tri 1 Final Project\n",
    "courses: { csa: {week: 11} }\n",
    "type: plans\n",
    "---"
   ]
  },
  {
   "cell_type": "markdown",
   "metadata": {},
   "source": [
    "### Links to contributions and analytics\n",
    "- [Overall contributions](https://github.com/TayKimmy)\n",
    "- [Backend Commits](https://github.com/Cosmic-Carnage/cosmic_backend_final/graphs/contributors)\n",
    "- [Frontend Commits](https://github.com/Cosmic-Carnage/Passion-Project/graphs/contributors)\n",
    "- [Extra Credit](https://github.com/TayKimmy/CSA_Repo/issues/3)\n",
    "\n",
    "### Link to Backends\n",
    "- [Quiz Questions](https://cosmic-backend.stu.nighthawkcodingsociety.com/api/quiz/)\n",
    "- [Quiz Leaderboard](https://cosmic-backend.stu.nighthawkcodingsociety.com/api/quizleaders/)\n",
    "- [Game Leaderboard](https://cosmic-backend.stu.nighthawkcodingsociety.com/api/leaderboard/)\n",
    "\n",
    "### Link to Frontend\n",
    "- [Passion Project](https://cosmic-carnage.github.io/Passion-Project/)\n",
    "\n",
    "Show time box - added lessons tab."
   ]
  },
  {
   "cell_type": "markdown",
   "metadata": {},
   "source": [
    "## Code - both Java and Javascript OOP\n",
    "\n",
    "### Backend\n",
    "- I mainly worked on the Quiz and the Quiz Leaderboard, but I also helped make the Game Leaderboard and Spacebook"
   ]
  },
  {
   "cell_type": "code",
   "execution_count": null,
   "metadata": {},
   "outputs": [],
   "source": [
    "public class Quiz {\n",
    "    @Id\n",
    "    @GeneratedValue(strategy = GenerationType.AUTO)\n",
    "    private Long id;\n",
    "\n",
    "    @Column(unique=true)\n",
    "    private String question;\n",
    "\n",
    "    private char correctAnswer;\n",
    "\n",
    "    private String answerA;\n",
    "    private String answerB;\n",
    "    private String answerC;\n",
    "    private String answerD;\n",
    "\n",
    "    public static List<String> init2() {\n",
    "        List<String> questionList = new ArrayList<>();\n",
    "\n",
    "        questionList.add(\"What is the largest moon of Jupiter?\");\n",
    "        questionList.add(\"What is the closest star to our solar system?\");\n",
    "        questionList.add(\"What planet is the Great Red Spot on?\");\n",
    "        questionList.add(\"What is the largest known galaxy?\");\n",
    "        questionList.add(\"Who was the first human to walk on the Moon?\");\n",
    "\n",
    "        questionList.add(\"Europa, Amalthea, Ganymede, Io, c\");\n",
    "        questionList.add(\"Polaris, Betelgeuse, Altair, Proxima Centauri, d\");\n",
    "        questionList.add(\"Earth, Jupiter, Mars, Neptune, b\");\n",
    "        questionList.add(\"Alcyoneus, IC 1101, Milky Way, Andromeda, a\");\n",
    "        questionList.add(\"Alan Shepard, John Glenn, Yuri Gagarin, Neil Armstrong, d\");\n",
    "\n",
    "        return questionList;\n",
    "    }\n",
    "}"
   ]
  },
  {
   "cell_type": "markdown",
   "metadata": {},
   "source": [
    "This is the Java code in the Quiz.java file that initializes our quiz data. It has an id, question, 4 answer choices, and the correct answer letter. After I created it, I realized that the format was a little bit funky, but I was able to work with it and integrate with frontend. An improvement to make code or database more concise is to maybe use Hashmap, similar to leaderboard."
   ]
  },
  {
   "cell_type": "code",
   "execution_count": null,
   "metadata": {},
   "outputs": [],
   "source": [
    "@GetMapping(\"/\")\n",
    "    public ResponseEntity<List<String>> getQuiz() {\n",
    "        List<String> questions = Quiz.init2();\n",
    "        return new ResponseEntity<>(questions, HttpStatus.OK);\n",
    "    }"
   ]
  },
  {
   "cell_type": "markdown",
   "metadata": {},
   "source": [
    "Creating the api controller for the `GET` method - which is the only one we need for quiz. I originally tried to have the quiz leaderboard in same file, but there were many errors and code got kind of complicated."
   ]
  },
  {
   "cell_type": "code",
   "execution_count": null,
   "metadata": {},
   "outputs": [],
   "source": [
    "public class QuizLeaderboard {\n",
    "    @Id\n",
    "    @GeneratedValue(strategy = GenerationType.AUTO)\n",
    "    private Long id;\n",
    "\n",
    "    // @Column(unique=true)\n",
    "    private String leaders;\n",
    "\n",
    "    private int score;\n",
    "\n",
    "    // starting scores\n",
    "\n",
    "    public static HashMap<String, Integer> init() {\n",
    "        HashMap<String, Integer> quizleaders = new HashMap<>();\n",
    "        return quizleaders;\n",
    "    }\n",
    "}"
   ]
  },
  {
   "cell_type": "markdown",
   "metadata": {},
   "source": [
    "Initializing the quiz leaderboard. Since a leaderboard should only have data created by the users, I got rid of all the test data that was originally inside the hashmap. Hashmaps are also simple to read in the database and make it easier to integrate. The quiz leaderboard contains id, leaders (username), and score."
   ]
  },
  {
   "cell_type": "code",
   "execution_count": null,
   "metadata": {},
   "outputs": [],
   "source": [
    "@PostMapping(\"/post/{leaders}/{score}\")\n",
    "    public ResponseEntity<QuizLeaderboard> postQuizLeaderboard(@PathVariable String leaders, @PathVariable int score) {\n",
    "        // A person object WITHOUT ID will create a new record with default roles as student\n",
    "        QuizLeaderboard quizLeaderboard = new QuizLeaderboard(null, leaders, score);\n",
    "        repository.save(quizLeaderboard);\n",
    "        return new ResponseEntity<>(quizLeaderboard, HttpStatus.OK);\n",
    "    }"
   ]
  },
  {
   "cell_type": "markdown",
   "metadata": {},
   "source": [
    "I originally tried to use `@RequestParams`, but there were a lot of errors when I tried to `POST`, so Raymond suggested I use a `@PathVariable`. "
   ]
  },
  {
   "cell_type": "code",
   "execution_count": null,
   "metadata": {},
   "outputs": [],
   "source": [
    "@DeleteMapping(\"/delete/{id}\")\n",
    "    public ResponseEntity<QuizLeaderboard> deleteLeaderboard(@PathVariable long id) {\n",
    "        Optional<QuizLeaderboard> optional = repository.findById(id);\n",
    "        if (optional.isPresent()) {\n",
    "            QuizLeaderboard leaders = optional.get();\n",
    "            repository.deleteById(id);\n",
    "            return new ResponseEntity<>(leaders, HttpStatus.OK);\n",
    "        }\n",
    "        return new ResponseEntity<>(HttpStatus.BAD_REQUEST);\n",
    "    }"
   ]
  },
  {
   "cell_type": "markdown",
   "metadata": {},
   "source": [
    "This is the delete function in the backend, but I haven't actually been able to integrate it in the frontend."
   ]
  },
  {
   "cell_type": "code",
   "execution_count": null,
   "metadata": {},
   "outputs": [],
   "source": [
    "@PostMapping(\"/post/{leaderboard}/{score}\")\n",
    "    public ResponseEntity<Leaderboard> postLeaderboard(@PathVariable String leaderboard, @PathVariable int score) {\n",
    "        // A person object WITHOUT ID will create a new record with default roles as student\n",
    "        Leaderboard leaderboardrepo = new Leaderboard(null, leaderboard, score);\n",
    "        repository.save(leaderboardrepo);\n",
    "        return new ResponseEntity<>(leaderboardrepo, HttpStatus.OK);\n",
    "    }"
   ]
  },
  {
   "cell_type": "markdown",
   "metadata": {},
   "source": [
    "Similar to the quiz leaderboard, the game leaderboard also uses `@PathVariable` for the `POST` method."
   ]
  },
  {
   "cell_type": "markdown",
   "metadata": {},
   "source": [
    "## Frontend"
   ]
  },
  {
   "cell_type": "code",
   "execution_count": null,
   "metadata": {
    "vscode": {
     "languageId": "javascript"
    }
   },
   "outputs": [],
   "source": [
    "createButton.addEventListener(\"click\", () => {\n",
    "    const username = usernameInput.value;\n",
    "    const postData = {\n",
    "        leaders: username,\n",
    "        score: score,\n",
    "    };\n",
    "    fetch(`https://cosmic-backend.stu.nighthawkcodingsociety.com/api/quizleaders/post/${username}/${score}`, {\n",
    "            method: 'POST',\n",
    "            mode: 'cors',\n",
    "            cache: 'default',\n",
    "            credentials: 'same-origin',\n",
    "            headers: {\n",
    "                'Content-Type': 'application/json',\n",
    "                'Authorization': 'Bearer my-token'\n",
    "            },\n",
    "            body: JSON.stringify(postData)\n",
    "    })\n",
    "    .then(response => response.json())\n",
    "    .then(data => {\n",
    "        //\n",
    "    })\n",
    "    .catch(error => {\n",
    "        console.error(\"Error: \" + error);\n",
    "    });\n",
    "});"
   ]
  },
  {
   "cell_type": "markdown",
   "metadata": {},
   "source": [
    "This code shows the `POST` method in the frontend repository. It has a username input and automatically uses the score that is achieved on the quiz to post this data to the backend database. "
   ]
  },
  {
   "cell_type": "markdown",
   "metadata": {},
   "source": [
    "## Challenges Faced\n",
    "\n",
    "The biggest challenge that me and my group faced was the constant 500, 400, and 403 errors when we tried integrating frontend to backend. There was also a constant CORS error that causes these issues. We also had a hard time figuring out the spacebook image upload as well as utilizing JWTs. We ultimately overcame the errors through constant teamwork and collaboration, and the spacebook image was helped through online resources like YouTube videos.\n",
    "\n",
    "\n",
    "## Possible Improvements for my code\n",
    "\n",
    "1. Make the quiz questions a HashMap to make code simpler\n",
    "2. Create a question bank for the quiz, but randomly retrieve a certain number of questions so the questions are always different and in different order\n",
    "3. Implement delete functions in the frontend for the quiz and game leaderboard\n",
    "4. Implement some sort of update functions for both leaderboards - maybe just for username\n",
    "5. Be able to sort the game leaderboard (since quiz uses merge sort) through \"https://cdn.datatables.net/1.10.25/js/jquery.dataTables.min.js\"."
   ]
  },
  {
   "cell_type": "markdown",
   "metadata": {},
   "source": [
    "## Collegeboard Quiz Notes + Corrections\n",
    "\n",
    "<img src=\"https://github.com/TayKimmy/CSA-Repository/assets/107821010/2f34a7f2-bbf6-4a45-9454-0306b4df3fa8\">\n",
    "\n",
    "I got a 35/40, which is 87.5%.\n",
    "\n",
    "| Question # | Why I missed it | How can I improve |\n",
    "| - | - | - |\n",
    "| 15 | I missed this question because I didn't realize that the else statement will cause the for loop to stop since it reaches a `return` statement. | I can improve by considering every single aspect of code and thinking to myself what their functionalities are. |\n",
    "| 17 | I forgot that arrays are immutable. I also didn't know that the last element would just copy the previous element since that is no actual code for that last element | Next time, I will remember about arrays being immutable and also consider what impact that will have on the code. |\n",
    "| 19 | I didn't know that the opposite of greater was less than or equal to. | I will make sure to review logical operators and memorize their functions. |\n",
    "| 39 | I didn't notice that there were the method was called twice in the return statement, and I only did it once. | I will make sure to read the code carefully. |\n",
    "| 40 | I didn't realize what the impact of the print statement being after the method call would have. I ended up getting the answer in the wrong order. | I will consider each code carefully when I read the problem. |\n",
    "\n",
    "Topics I struggled on:\n",
    "1. Extensive for and if loops - caused a lot of time on my end (a lot of times I had to use my fingers to figure out the answer)\n",
    "2. Logical operators\n",
    "3. Certain functions like substring, length - just need reviewing\n",
    "\n",
    "Improvements:\n",
    "1. Read question + code carefully\n",
    "2. Think about functionalities of each code\n",
    "3. Review struggling topics\n",
    "\n",
    "Plans to Study:\n",
    "1. Review past MC's and FRQ's\n",
    "2. Review struggling topics\n",
    "3. Practice more Java"
   ]
  },
  {
   "cell_type": "markdown",
   "metadata": {},
   "source": [
    "## Tri 1 Reflection\n",
    "\n",
    "Overall, I learned a lot. I had limited knowledge of Java before CSA, but after just one tri, I have learned how to create classes, methods, and constructors; define different data types; use different functions; and much more. I also learned to use Spring for the backend instead of Flask like CSP. \n",
    "\n",
    "### Accomplishments\n",
    "- Working on a Java Spring backend\n",
    "- Utilizing Javascript in the frontend\n",
    "- Integrating frontend and backend\n",
    "- Collaborating with groupmates\n",
    "\n",
    "\n",
    "### Lessons learned\n",
    "- I learned the importance of communication\n",
    "- There was several times when members weren't communicating about their commits\n",
    "    - Led to constant merge conflicts and a bit of frustration\n",
    "    - Also led to hour-long calls to resolve unexpected errors\n",
    "- Also learned importance of time management\n",
    "    - We forgot to account for errors when working on our project\n",
    "    - Often led to us sleeping at 2 am because we had to resolve these errors\n",
    "\n",
    "\n",
    "### Opportunities for Growth\n",
    "- Always communicate with team members\n",
    "- Make sure to consider errors and plan accordingly\n",
    "- Document code and add comments so members can understand what the code is for"
   ]
  }
 ],
 "metadata": {
  "kernelspec": {
   "display_name": "Java",
   "language": "java",
   "name": "java"
  },
  "language_info": {
   "name": "java"
  }
 },
 "nbformat": 4,
 "nbformat_minor": 2
}
