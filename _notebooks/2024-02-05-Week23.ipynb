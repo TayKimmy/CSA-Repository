{
 "cells": [
  {
   "cell_type": "markdown",
   "metadata": {},
   "source": [
    "---\n",
    "layout: post\n",
    "comments: true\n",
    "title: Week 23 Plans\n",
    "courses: { csa: {week: 23}}\n",
    "type: plans\n",
    "---"
   ]
  },
  {
   "cell_type": "markdown",
   "metadata": {},
   "source": [
    "## Plans\n",
    "- Fix up the login/signup/account\n",
    "- Fetch from the backend\n",
    "- Fix CORS Error\n",
    "- Add update and delete functionalities\n",
    "- Look at updated Spring_Portfolio template"
   ]
  }
 ],
 "metadata": {
  "language_info": {
   "name": "python"
  }
 },
 "nbformat": 4,
 "nbformat_minor": 2
}
