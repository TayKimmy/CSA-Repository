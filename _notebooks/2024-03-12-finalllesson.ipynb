{
 "cells": [
  {
   "cell_type": "markdown",
   "metadata": {},
   "source": [
    "---\n",
    "toc: true\n",
    "comments: true\n",
    "layout: post\n",
    "title: Methods & Control Structures Lesson\n",
    "description: Lesson for methods & control structures\n",
    "type: tangibles\n",
    "courses: { csa: {week: 28} }\n",
    "---"
   ]
  },
  {
   "cell_type": "markdown",
   "metadata": {},
   "source": [
    "## Math Class\n",
    "\n",
    "## Intro\n",
    "The Math class in Java is part of the java.lang package, which is automatically imported, hence you don't need to manually import it. The Math class provides a collection of methods and constants for performing mathematical operations.\n",
    "\n",
    "## Key points about the Math class:\n",
    "- Static Methods: The methods of the Math class are static, meaning you can call them directly using the class name without needing to create an instance of the Math class. For example, Math.sqrt(25) will return 5.0.\n",
    "Commonly Used Methods:\n",
    "- Math.abs(double a): Returns the absolute value of a.\n",
    "- Math.sqrt(double a): Returns the square root of a.\n",
    "- Math.pow(double a, double b): Returns a raised to the power of b.\n",
    "- Math.max(double a, double b): Returns the greater of a and b.\n",
    "- Math.min(double a, double b): Returns the lesser of a and b.\n",
    "- Math.round(double a): Rounds a to the nearest integer.\n",
    "- Math.random(): Returns a double value greater than or equal to 0.0 and less than 1.0.\n",
    "\n",
    "## Evaluation of Expressions Using the Math Class\n",
    "Let's dive into evaluating expressions and demonstrating program statements using Math class methods. We will explore how to use these methods in Java code through examples.\n",
    "\n",
    "### Example 1: Calculating the Hypotenuse of a Right Triangle"
   ]
  },
  {
   "cell_type": "code",
   "execution_count": 1,
   "metadata": {},
   "outputs": [
    {
     "name": "stdout",
     "output_type": "stream",
     "text": [
      "Hypotenuse: 5.0\n"
     ]
    }
   ],
   "source": [
    "public class Triangle {\n",
    "    public static void main(String[] args){\n",
    "        double a = 3;\n",
    "        double b = 4;\n",
    "        double c = Math.sqrt(Math.pow(a, 2) + Math.pow(b, 2));\n",
    "        System.out.println(\"Hypotenuse: \" + c);\n",
    "    }\n",
    "}\n",
    "Triangle.main(null)"
   ]
  },
  {
   "cell_type": "markdown",
   "metadata": {},
   "source": [
    "### Example 2: Finding the Larger of Two Numbers"
   ]
  },
  {
   "cell_type": "code",
   "execution_count": 2,
   "metadata": {},
   "outputs": [
    {
     "name": "stdout",
     "output_type": "stream",
     "text": [
      "The larger number is: 7.25\n"
     ]
    }
   ],
   "source": [
    "public class Larger{\n",
    "    public static void main(String[] args){\n",
    "        double num1 = 7.25;\n",
    "        double num2 = 7.20;\n",
    "        double larger = Math.max(num1, num2);\n",
    "        System.out.println(\"The larger number is: \" + larger);\n",
    "    }\n",
    "}\n",
    "Larger.main(null)"
   ]
  },
  {
   "cell_type": "markdown",
   "metadata": {},
   "source": [
    "## Using Math.random() and Setting Up a Range\n",
    "Math.random() is a versatile method used to generate random numbers. However, it returns a double value that is greater than or equal to 0.0 and less than 1.0. Often, you'll need a random integer within a specific range, say from min to max (inclusive). To achieve this, you can scale and shift the result of Math.random().\n",
    "\n",
    "### Example: Generating a Random Integer Between 1 and 10"
   ]
  },
  {
   "cell_type": "code",
   "execution_count": 5,
   "metadata": {},
   "outputs": [
    {
     "name": "stdout",
     "output_type": "stream",
     "text": [
      "Random Number: 2\n"
     ]
    }
   ],
   "source": [
    "public class Generate{\n",
    "    public static void main(String[] args){\n",
    "        int min = 1;\n",
    "        int max = 10;\n",
    "        int randomNum = (int)(Math.random() * ((max - min) + 1)) + min;\n",
    "        System.out.println(\"Random Number: \" + randomNum);\n",
    "    }\n",
    "}\n",
    "Generate.main(null)"
   ]
  },
  {
   "cell_type": "markdown",
   "metadata": {},
   "source": [
    "## ArrayLists\n",
    "\n",
    "- An **ArrayList** is a utility from the ``java.util`` package\n",
    "\n",
    "- To declare a variable, use the format `ArrayList<DataType> variableName = new ArrayList<DataType>(initial number of elements);`\n",
    "\n",
    "- Unlike arrays, ArrayLists are mutable (can be resized after initialization)\n",
    "\n",
    "- Functions as a more versatile array\n",
    "\n",
    "    - Does technically take more space than an array but for the purposes of CSA it shouldn't matter\n",
    "<br>\n",
    "<br>\n",
    "\n",
    "Difference between Array and Arraylist:\n",
    "\n",
    "\n",
    "| Array | Arraylist |\n",
    "| - | - |\n",
    "| Fixed length | Resizable length |\n",
    "| Fundamental Java Feature | Part of a Framework |\n",
    "| An object with no methods | A Class with many methods |\n",
    "| Not very flexible | Flexible |\n",
    "| Can store primitives | Cannot store primitives - stores objects instead |\n",
    "\n",
    "## Arraylist Methods\n",
    "- add()\n",
    "    - Adding a value to the ArrayList\n",
    "    - Can be used to create an element at a specific index in the ArrayList - when this happens, everything at the positions of index and higher are moved to the right by 1 \n",
    "- get()\n",
    "    - Get the value of an index in the ArrayList\n",
    "- set()\n",
    "    - Change the value at an index in the ArrayList\n",
    "- remove()\n",
    "    - Delete the value at in index in the ArrayList\n",
    "- clear()\n",
    "    - Remove all values in an ArrayList\n",
    "- size()\n",
    "    - Get the length of the ArrayList"
   ]
  },
  {
   "cell_type": "code",
   "execution_count": 4,
   "metadata": {},
   "outputs": [
    {
     "name": "stdout",
     "output_type": "stream",
     "text": [
      "0\n",
      "[1, 2, 3, 4, 5, 6, 7]\n",
      "2\n",
      "5\n",
      "[1, 200, 3, 4, 6, 7]\n"
     ]
    }
   ],
   "source": [
    "import java.util.ArrayList;\n",
    "\n",
    "public class Test {\n",
    "    public static void main(String[] args) {\n",
    "        ArrayList<Integer> test = new ArrayList<>();\n",
    "        System.out.println(test.size());\n",
    "        test.add(1); //index 0\n",
    "        test.add(2); // index 1\n",
    "        test.add(3); // index 2\n",
    "        test.add(4); // index 3\n",
    "        test.add(5); // index 4\n",
    "        test.add(6); // index 5\n",
    "        test.add(7); // index 6\n",
    "\n",
    "        System.out.println(test);\n",
    "\n",
    "        int i = test.set(1, 200); // prints what used to be at index 1\n",
    "        int x = test.remove(4); // prints what was removed\n",
    "\n",
    "        System.out.println(i);\n",
    "        System.out.println(x);\n",
    "        System.out.println(test);\n",
    "    }\n",
    "}\n",
    "Test.main(null);"
   ]
  },
  {
   "cell_type": "markdown",
   "metadata": {},
   "source": [
    "## Traversing ArrayLists\n",
    "\n",
    "- Deleting elements in the ArrayList while iterating over the ArrayList needs to be carefully done because the index changes as you delete elements\n",
    "- Using an enhanced for loop can result in the ConcurrentModificationException error\n",
    "    - Do not delete elements in an ArrayList while using an enhanced for loop"
   ]
  },
  {
   "cell_type": "code",
   "execution_count": 3,
   "metadata": {},
   "outputs": [
    {
     "name": "stdout",
     "output_type": "stream",
     "text": [
      "1 7 9 13 \n",
      "1 7 9 13 "
     ]
    }
   ],
   "source": [
    "public static void main(String[] args)\n",
    "{\n",
    "    ArrayList<Integer> arr = new ArrayList<>();        \n",
    "    arr.add(1);\n",
    "    arr.add(7);\n",
    "    arr.add(9);\n",
    "    arr.add(13);\n",
    "\n",
    "    for (int i = 0; i < arr.size(); i++) //for loop, would work the same as with an array\n",
    "    {\n",
    "        System.out.print(arr.get(i) + \" \");\n",
    "    }\n",
    "    System.out.println();\n",
    "\n",
    "    for (Integer i : arr) //enhanced for loop without removing, same as an array\n",
    "    {\n",
    "        System.out.print(i + \" \");\n",
    "    }\n",
    "\n",
    "}\n",
    "main(null);"
   ]
  },
  {
   "cell_type": "markdown",
   "metadata": {},
   "source": [
    "## Built-In Sorting"
   ]
  },
  {
   "cell_type": "code",
   "execution_count": 6,
   "metadata": {},
   "outputs": [
    {
     "name": "stdout",
     "output_type": "stream",
     "text": [
      "Sorted ArrayList: [11, 12, 22, 25, 64]\n",
      "Second Sorted ArrayList: [B, E, G, M, T]\n"
     ]
    }
   ],
   "source": [
    "import java.util.ArrayList;\n",
    "import java.util.Collections;\n",
    "\n",
    "public class SelectionSort {\n",
    "    public static void main(String[] args) {\n",
    "        ArrayList<Integer> arrayList = new ArrayList<>();\n",
    "        arrayList.add(64);\n",
    "        arrayList.add(25);\n",
    "        arrayList.add(12);\n",
    "        arrayList.add(22);\n",
    "        arrayList.add(11);\n",
    "\n",
    "        Collections.sort(arrayList);\n",
    "\n",
    "        System.out.println(\"Sorted ArrayList: \" + arrayList);\n",
    "\n",
    "        ArrayList<Character> arrayListX = new ArrayList<>();\n",
    "        arrayListX.add('T');\n",
    "        arrayListX.add('G');\n",
    "        arrayListX.add('E');\n",
    "        arrayListX.add('B');\n",
    "        arrayListX.add('M');\n",
    "\n",
    "        Collections.sort(arrayListX);\n",
    "        System.out.println (\"Second Sorted ArrayList: \" +arrayListX);\n",
    "    }\n",
    "}\n",
    "SelectionSort.main(null);"
   ]
  },
  {
   "cell_type": "markdown",
   "metadata": {},
   "source": [
    "## Anatomy, Scope, and Access of a Class\n",
    "\n",
    "## Scope\n",
    "\n",
    "- Local variables: variables declared in body of constructors and methods, only use within constructor or method, can’t be declared public or private\n",
    "- If local variable named same as instance variable, within that method the local variable will be referred to instead of the instance variable\n",
    "- Formal parameters and variables declared in a method or constructor can only be used within that method or constructor\n",
    "\n",
    "## Access \n",
    "\n",
    "- Private: Variables or methods marked as private are accessible only within the class in which they are declared. This provides the highest level of encapsulation and restricts access from outside the class.\n",
    "- Package/Default: If no access modifier is specified, the default access level is package-private, also known as default access. This allows access within the same package but restricts access from classes outside the package.\n",
    "- Public: Public members are accessible from any other class. They provide the least restrictive access and are commonly used for methods and variables that need to be accessed from other classes.\n",
    "\n",
    "### Example"
   ]
  },
  {
   "cell_type": "code",
   "execution_count": null,
   "metadata": {},
   "outputs": [],
   "source": [
    "public class Bowler{\n",
    "    private int totalPins;\n",
    "    private int games;\n",
    "   \n",
    "    public Bowler(int pins){\n",
    "        totalPins = pins; // this keyword\n",
    "        games = 3;\n",
    "    }\n",
    "\n",
    "    public void update (int game1, int game2, int game3) {\n",
    "        // local variable here is newPins\n",
    "        int newPins = game1 + game2 + game3;\n",
    "        totalPins += newPins;\n",
    "        games += 3;\n",
    "    }\n",
    "}"
   ]
  },
  {
   "cell_type": "markdown",
   "metadata": {},
   "source": [
    "\n",
    "## Hacks\n",
    "In this assignment, you will work with a collection of randomly generated data represented by an ArrayList of ArrayLists of integers. You will design a class, named `DataList`, from scratch and implement methods within this class to manipulate the data according to specified criteria.\n",
    "\n",
    "#### Requirements\n",
    "\n",
    "1.  **Class Declaration**: Create a `DataList` class that encapsulates a collection of data.\n",
    "    \n",
    "    *   The data collection should be an `ArrayList` of `ArrayList` of integers (`ArrayList<ArrayList<Integer>>`).\n",
    "    *   Include any necessary instance variables and a constructor to initialize the data structure.\n",
    "2.  **`repopulate` Method**:\n",
    "    \n",
    "    *   Write a method named `repopulate` in the `DataList` class. This method should fill each element of the collection with randomly generated values according to the following criteria:\n",
    "        *   Each value must be between 1 and `MAX` (inclusive), where `MAX` is a predefined constant in your class with a value that is not shown.\n",
    "        *   Each value must be divisible by 10.\n",
    "        *   Each value must not be divisible by 100.\n",
    "    *   Ensure that all valid values have an equal chance of being generated.\n",
    "    *   Precondition: The collection is not null and has at least one element.\n",
    "\n",
    "#### Instructions\n",
    "\n",
    "*   **Design**: Consider how you will structure your `DataList` class, including the choice of instance variables and the design of your constructor to properly initialize the data collection.\n",
    "*   **Implementation**: Implement the `repopulate` method to meet the specified criteria. Think about how you can efficiently generate values that meet the requirements and how you'll iterate through the ArrayList of ArrayLists to assign these values.\n",
    "*   **Testing**: After implementing the `repopulate` method, consider writing a simple main method or unit tests to verify that your method works as expected. Generate a small collection and print the results to ensure values are correctly assigned according to the criteria."
   ]
  }
 ],
 "metadata": {
  "kernelspec": {
   "display_name": "Java",
   "language": "java",
   "name": "java"
  },
  "language_info": {
   "codemirror_mode": "java",
   "file_extension": ".jshell",
   "mimetype": "text/x-java-source",
   "name": "java",
   "pygments_lexer": "java",
   "version": "17.0.8+7-Ubuntu-120.04.2"
  }
 },
 "nbformat": 4,
 "nbformat_minor": 2
}
