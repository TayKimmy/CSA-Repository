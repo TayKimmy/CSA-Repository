{
 "cells": [
  {
   "cell_type": "markdown",
   "metadata": {},
   "source": [
    "---\n",
    "toc: true\n",
    "layout: post\n",
    "title: Sorting Algorithms Blog\n",
    "type: tangibles\n",
    "courses: { csa: {week: 29} }\n",
    "---"
   ]
  },
  {
   "cell_type": "markdown",
   "metadata": {},
   "source": [
    "## Flower Class\n",
    "Creating the comparable object and the flower class."
   ]
  },
  {
   "cell_type": "code",
   "execution_count": null,
   "metadata": {},
   "outputs": [],
   "source": [
    "public class Flower implements Comparable<Flower> {\n",
    "    private String name;\n",
    "    private int petals;\n",
    "\n",
    "    public Flower(String name, int petals) {\n",
    "        this.name = name;\n",
    "        this.petals = petals;\n",
    "    }\n",
    "\n",
    "    public String getName() {\n",
    "        return name;\n",
    "    }\n",
    "\n",
    "    public int getPetals() {\n",
    "        return petals;\n",
    "    }\n",
    "\n",
    "    public void setPetals(int petals) {\n",
    "        this.petals = petals;\n",
    "    }\n",
    "\n",
    "    public void setName(String name) {\n",
    "        this.name = name;\n",
    "    }\n",
    "\n",
    "    @Override\n",
    "    public int compareTo(Flower other) {\n",
    "        return this.name.compareTo(other.name);\n",
    "    }\n",
    "\n",
    "    @Override\n",
    "    public String toString() {\n",
    "        return name + \" (\" + petals + \" petals)\";\n",
    "    }\n",
    "}\n",
    "\n",
    "public class generateFlowers {\n",
    "    \n",
    "}\n"
   ]
  },
  {
   "cell_type": "markdown",
   "metadata": {},
   "source": [
    "## Bubble Sort Implementation"
   ]
  },
  {
   "cell_type": "code",
   "execution_count": 5,
   "metadata": {},
   "outputs": [
    {
     "name": "stdout",
     "output_type": "stream",
     "text": [
      "List before sorting: [41, 10, 10, 0, 80, 15, 79, 21, 54, 13]\n",
      "List after sorting: [0, 10, 10, 13, 15, 21, 41, 54, 79, 80]\n"
     ]
    }
   ],
   "source": [
    "import java.util.ArrayList;\n",
    "\n",
    "public class BubbleSort {\n",
    "    public static void bubbleSort(ArrayList<Comparable> list) {\n",
    "        int n = list.size();\n",
    "        for (int i = 0; i < n - 1; i++) {\n",
    "            for (int j = 0; j < n - i - 1; j++) {\n",
    "                if (list.get(j).compareTo(list.get(j + 1)) > 0) {\n",
    "                    // swap elements\n",
    "                    Comparable temp = list.get(j);\n",
    "                    list.set(j, list.get(j + 1));\n",
    "                    list.set(j + 1, temp);\n",
    "                }\n",
    "            }\n",
    "        }\n",
    "    }\n",
    "\n",
    "    public static void main(String[] args) {\n",
    "        ArrayList<Comparable> numbers = generateNumbers(); \n",
    "        System.out.println(\"List before sorting: \" + numbers);\n",
    "\n",
    "        bubbleSort(numbers);\n",
    "\n",
    "        System.out.println(\"List after sorting: \" + numbers);\n",
    "    }\n",
    "\n",
    "    public static ArrayList<Comparable> generateNumbers() {\n",
    "        ArrayList<Comparable> numbers = new ArrayList<>();\n",
    "        for (int i = 0; i < 10; i++) { \n",
    "            numbers.add((int) (Math.random() * 101)); \n",
    "        }\n",
    "        return numbers;\n",
    "    }\n",
    "}\n",
    "\n",
    "BubbleSort.main(null);"
   ]
  },
  {
   "cell_type": "markdown",
   "metadata": {},
   "source": [
    "## Selection Sort Implementation"
   ]
  },
  {
   "cell_type": "code",
   "execution_count": 6,
   "metadata": {},
   "outputs": [
    {
     "name": "stdout",
     "output_type": "stream",
     "text": [
      "List before sorting: [21, 28, 79, 11, 55, 34, 29, 10, 15, 4]\n",
      "List after sorting: [4, 10, 11, 15, 21, 28, 29, 34, 55, 79]\n"
     ]
    }
   ],
   "source": [
    "import java.util.ArrayList;\n",
    "\n",
    "public class SelectionSort {\n",
    "    public static void selectionSort(ArrayList<Comparable> list) {\n",
    "        int n = list.size();\n",
    "        for (int i = 0; i < n - 1; i++) {\n",
    "            int minIndex = i;\n",
    "            for (int j = i + 1; j < n; j++) {\n",
    "                if (list.get(j).compareTo(list.get(minIndex)) < 0) {\n",
    "                    minIndex = j;\n",
    "                }\n",
    "            }\n",
    "            Comparable temp = list.get(minIndex);\n",
    "            list.set(minIndex, list.get(i));\n",
    "            list.set(i, temp);\n",
    "        }\n",
    "    }\n",
    "\n",
    "    public static void main(String[] args) {\n",
    "        ArrayList<Comparable> numbers = generateNumbers(); \n",
    "        System.out.println(\"List before sorting: \" + numbers);\n",
    "        \n",
    "        selectionSort(numbers);\n",
    "        \n",
    "        System.out.println(\"List after sorting: \" + numbers);\n",
    "    }\n",
    "\n",
    "    public static ArrayList<Comparable> generateNumbers() {\n",
    "        ArrayList<Comparable> numbers = new ArrayList<>();\n",
    "        for (int i = 0; i < 10; i++) { \n",
    "            numbers.add((int) (Math.random() * 101)); \n",
    "        }\n",
    "        return numbers;\n",
    "    }\n",
    "}\n",
    "\n",
    "SelectionSort.main(null);"
   ]
  },
  {
   "cell_type": "markdown",
   "metadata": {},
   "source": [
    "## Insertion Sort Implementation"
   ]
  },
  {
   "cell_type": "code",
   "execution_count": 20,
   "metadata": {},
   "outputs": [
    {
     "name": "stdout",
     "output_type": "stream",
     "text": [
      "List before sorting: [75, 74, 15, 53, 69, 51, 77, 13, 31, 9]\n",
      "List after sorting: [9, 13, 15, 31, 51, 53, 69, 74, 75, 77]\n"
     ]
    }
   ],
   "source": [
    "import java.util.ArrayList;\n",
    "\n",
    "public class InsertionSort {\n",
    "    public static void insertionSort(ArrayList<Comparable> list) {\n",
    "        int n = list.size();\n",
    "        for (int i = 1; i < n; ++i) {\n",
    "            Comparable key = list.get(i);\n",
    "            int j = i - 1;\n",
    "            while (j >= 0 && list.get(j).compareTo(key) > 0) {\n",
    "                list.set(j + 1, list.get(j));\n",
    "                j--;\n",
    "            }\n",
    "            list.set(j + 1, key); \n",
    "        }\n",
    "    }\n",
    "\n",
    "    public static void main(String[] args) {\n",
    "        ArrayList<Comparable> numbers = generateNumbers(); \n",
    "        System.out.println(\"List before sorting: \" + numbers);\n",
    "        \n",
    "        insertionSort(numbers);\n",
    "        \n",
    "        System.out.println(\"List after sorting: \" + numbers);\n",
    "    }\n",
    "\n",
    "    public static ArrayList<Comparable> generateNumbers() {\n",
    "        ArrayList<Comparable> numbers = new ArrayList<>();\n",
    "        for (int i = 0; i < 10; i++) { \n",
    "            numbers.add((int) (Math.random() * 101)); \n",
    "        }\n",
    "        return numbers;\n",
    "    }\n",
    "}\n",
    "\n",
    "InsertionSort.main(null);"
   ]
  },
  {
   "cell_type": "markdown",
   "metadata": {},
   "source": [
    "## Quick Sort Implementation"
   ]
  },
  {
   "cell_type": "code",
   "execution_count": 1,
   "metadata": {},
   "outputs": [
    {
     "name": "stdout",
     "output_type": "stream",
     "text": [
      "List before sorting: [42, 41, 43, 98, 60, 27, 73, 76, 77, 93]\n",
      "List after sorting: [27, 41, 42, 43, 60, 73, 76, 77, 93, 98]\n"
     ]
    }
   ],
   "source": [
    "import java.util.ArrayList;\n",
    "import java.util.Arrays;\n",
    "\n",
    "public class QuickSort {\n",
    "    public static void quickSort(ArrayList<Comparable> list, int low, int high) {        \n",
    "        if (low < high) {\n",
    "            int pi = partition(list, low, high);\n",
    "            quickSort(list, low, pi - 1);\n",
    "            quickSort(list, pi + 1, high);\n",
    "        }\n",
    "    }\n",
    "\n",
    "    private static int partition(ArrayList<Comparable> list, int low, int high) {\n",
    "        Comparable pivot = list.get(high);\n",
    "        int i = low - 1;\n",
    "        for (int j = low; j < high; j++) {\n",
    "            if (list.get(j).compareTo(pivot) <= 0) {\n",
    "                i++;\n",
    "                Comparable temp = list.get(i);\n",
    "                list.set(i, list.get(j));\n",
    "                list.set(j, temp);\n",
    "            }\n",
    "        }\n",
    "        Comparable temp = list.get(i + 1);\n",
    "        list.set(i + 1, list.get(high));\n",
    "        list.set(high, temp);\n",
    "        return i + 1;\n",
    "    }\n",
    "\n",
    "    public static void main(String[] args) {\n",
    "        ArrayList<Comparable> numbers = generateNumbers(10);\n",
    "        System.out.println(\"List before sorting: \" + numbers);\n",
    "        \n",
    "        quickSort(numbers, 0, numbers.size() - 1);\n",
    "        \n",
    "        System.out.println(\"List after sorting: \" + numbers);\n",
    "    }\n",
    "\n",
    "    public static ArrayList<Comparable> generateNumbers(int size) {\n",
    "        ArrayList<Comparable> numbers = new ArrayList<>();\n",
    "        for (int i = 0; i < size; i++) {\n",
    "            numbers.add((int) (Math.random() * 101)); \n",
    "        }\n",
    "        return numbers;\n",
    "    }\n",
    "}\n",
    "\n",
    "QuickSort.main(null);"
   ]
  },
  {
   "cell_type": "markdown",
   "metadata": {},
   "source": [
    "## Merge Sort Implementation"
   ]
  },
  {
   "cell_type": "code",
   "execution_count": 10,
   "metadata": {},
   "outputs": [
    {
     "name": "stdout",
     "output_type": "stream",
     "text": [
      "List before sorting: [17, 68, 10, 21, 99, 0, 77, 88, 5, 66]\n",
      "List after sorting: [0, 5, 10, 17, 21, 66, 68, 77, 88, 99]\n"
     ]
    }
   ],
   "source": [
    "import java.util.ArrayList;\n",
    "import java.util.Arrays;\n",
    "\n",
    "public class MergeSort {\n",
    "    public static void mergeSort(ArrayList<Comparable> list) {\n",
    "        if (list.size() > 1) {\n",
    "            int mid = list.size() / 2;\n",
    "            ArrayList<Comparable> left = new ArrayList<>(list.subList(0, mid));\n",
    "            ArrayList<Comparable> right = new ArrayList<>(list.subList(mid, list.size()));\n",
    "\n",
    "            mergeSort(left);\n",
    "            mergeSort(right);\n",
    "\n",
    "            merge(list, left, right); \n",
    "        }\n",
    "    }\n",
    "\n",
    "    private static void merge(ArrayList<Comparable> list, ArrayList<Comparable> left, ArrayList<Comparable> right) {\n",
    "        int i = 0, j = 0, k = 0;\n",
    "        while (i < left.size() && j < right.size()) {\n",
    "            if (left.get(i).compareTo(right.get(j)) <= 0) {\n",
    "                list.set(k++, left.get(i++));\n",
    "            } else {\n",
    "                list.set(k++, right.get(j++));\n",
    "            }\n",
    "        }\n",
    "        while (i < left.size()) {\n",
    "            list.set(k++, left.get(i++));\n",
    "        }\n",
    "        while (j < right.size()) {\n",
    "            list.set(k++, right.get(j++));\n",
    "        }\n",
    "    }\n",
    "\n",
    "    public static void main(String[] args) {\n",
    "        ArrayList<Comparable> numbers = generateNumbers(); \n",
    "        System.out.println(\"List before sorting: \" + numbers);\n",
    "        \n",
    "        mergeSort(numbers); \n",
    "        \n",
    "        System.out.println(\"List after sorting: \" + numbers);\n",
    "    }\n",
    "\n",
    "    public static ArrayList<Comparable> generateNumbers() {\n",
    "        ArrayList<Comparable> numbers = new ArrayList<>();\n",
    "        for (int i = 0; i < 10; i++) {\n",
    "            numbers.add((int) (Math.random() * 101)); \n",
    "        }\n",
    "        return numbers;\n",
    "    }\n",
    "}\n",
    "\n",
    "MergeSort.main(null);"
   ]
  }
 ],
 "metadata": {
  "kernelspec": {
   "display_name": "Java",
   "language": "java",
   "name": "java"
  },
  "language_info": {
   "codemirror_mode": "java",
   "file_extension": ".jshell",
   "mimetype": "text/x-java-source",
   "name": "java",
   "pygments_lexer": "java",
   "version": "17.0.8+7-Ubuntu-120.04.2"
  }
 },
 "nbformat": 4,
 "nbformat_minor": 2
}
