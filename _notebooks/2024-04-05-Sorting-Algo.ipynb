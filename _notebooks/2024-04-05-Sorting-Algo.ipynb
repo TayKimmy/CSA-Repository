{
 "cells": [
  {
   "cell_type": "markdown",
   "metadata": {},
   "source": [
    "---\n",
    "toc: true\n",
    "layout: post\n",
    "title: Sorting Algorithms Blog\n",
    "type: tangibles\n",
    "courses: { csa: {week: 29} }\n",
    "---"
   ]
  },
  {
   "cell_type": "markdown",
   "metadata": {},
   "source": [
    "## Flower Class and Collectable Interface\n"
   ]
  },
  {
   "cell_type": "code",
   "execution_count": 4,
   "metadata": {
    "vscode": {
     "languageId": "java"
    }
   },
   "outputs": [],
   "source": [
    "public interface Collectable extends Comparable<Collectable> {\n",
    "    String toJson();\n",
    "}"
   ]
  },
  {
   "cell_type": "code",
   "execution_count": 33,
   "metadata": {
    "vscode": {
     "languageId": "java"
    }
   },
   "outputs": [],
   "source": [
    "public class Flower implements Collectable {\n",
    "    private String name;\n",
    "    private int petals;\n",
    "\n",
    "    public Flower(String name, int petals) {\n",
    "        this.name = name;\n",
    "        this.petals = petals;\n",
    "    }\n",
    "\n",
    "    public String getName() {\n",
    "        return name;\n",
    "    }\n",
    "\n",
    "    public int getpetals() {\n",
    "        return petals;\n",
    "    }\n",
    "\n",
    "    @Override\n",
    "    public int compareTo(Collectable other) {\n",
    "        Flower otherFlower = (Flower) other;\n",
    "        return this.name.compareTo(otherFlower.name);\n",
    "    }\n",
    "\n",
    "    @Override\n",
    "    public String toString() {\n",
    "        return \"( \" + name + \",\" + \" petals: \" + petals + \")\";\n",
    "    }\n",
    "\n",
    "    @Override\n",
    "    public String toJson() {\n",
    "        return \"{\\\"name\\\": \\\"\" + name + \"\\\", \\\"petals\\\": \" + petals + \"}\";\n",
    "    }\n",
    "}\n"
   ]
  },
  {
   "cell_type": "markdown",
   "metadata": {},
   "source": [
    "## Sorting Class\n",
    "Creating the class that will store all the sorts as methods."
   ]
  },
  {
   "cell_type": "code",
   "execution_count": 29,
   "metadata": {
    "vscode": {
     "languageId": "java"
    }
   },
   "outputs": [],
   "source": [
    "import java.util.ArrayList;\n",
    "import java.util.Collections;\n",
    "import java.util.Comparator;\n",
    "\n",
    "public class Sorting {\n",
    "\n",
    "    // Bubble Sort\n",
    "    public static void bubbleSort(ArrayList<Collectable> list) {\n",
    "        int n = list.size();\n",
    "        for (int i = 0; i < n - 1; i++) {\n",
    "            for (int j = 0; j < n - i - 1; j++) {\n",
    "                if (list.get(j).compareTo(list.get(j + 1)) > 0) {\n",
    "                    Collections.swap(list, j, j + 1);\n",
    "                }\n",
    "            }\n",
    "        }\n",
    "    }\n",
    "\n",
    "    // Selection Sort\n",
    "    public static void selectionSort(ArrayList<Collectable> list) {\n",
    "        int n = list.size();\n",
    "        for (int i = 0; i < n - 1; i++) {\n",
    "            int minIndex = i;\n",
    "            for (int j = i + 1; j < n; j++) {\n",
    "                if (list.get(j).compareTo(list.get(minIndex)) < 0) {\n",
    "                    minIndex = j;\n",
    "                }\n",
    "            }\n",
    "            Collections.swap(list, i, minIndex);\n",
    "        }\n",
    "    }\n",
    "\n",
    "    // Insertion Sort\n",
    "    public static void insertionSort(ArrayList<Collectable> list) {\n",
    "        int n = list.size();\n",
    "        for (int i = 1; i < n; i++) {\n",
    "            Collectable key = list.get(i);\n",
    "            int j = i - 1;\n",
    "            while (j >= 0 && list.get(j).compareTo(key) > 0) {\n",
    "                list.set(j + 1, list.get(j));\n",
    "                j--;\n",
    "            }\n",
    "            list.set(j + 1, key);\n",
    "        }\n",
    "    }\n",
    "\n",
    "    // Quick Sort\n",
    "    public static void quickSort(ArrayList<Collectable> list, int low, int high) {\n",
    "        if (low < high) {\n",
    "            int pi = partition(list, low, high);\n",
    "            quickSort(list, low, pi - 1);\n",
    "            quickSort(list, pi + 1, high);\n",
    "        }\n",
    "    }\n",
    "\n",
    "    private static int partition(ArrayList<Collectable> list, int low, int high) {\n",
    "        Collectable pivot = list.get(high);\n",
    "        int i = low - 1;\n",
    "        for (int j = low; j < high; j++) {\n",
    "            if (list.get(j).compareTo(pivot) < 0) {\n",
    "                i++;\n",
    "                Collections.swap(list, i, j);\n",
    "            }\n",
    "        }\n",
    "        Collections.swap(list, i + 1, high);\n",
    "        return i + 1;\n",
    "    }\n",
    "\n",
    "    // Merge Sort\n",
    "    public static void mergeSort(ArrayList<Collectable> list) {\n",
    "        mergeSortHelper(list, 0, list.size() - 1);\n",
    "    }\n",
    "\n",
    "    private static void mergeSortHelper(ArrayList<Collectable> list, int low, int high) {\n",
    "        if (low < high) {\n",
    "            int mid = (low + high) / 2;\n",
    "            mergeSortHelper(list, low, mid);\n",
    "            mergeSortHelper(list, mid + 1, high);\n",
    "            merge(list, low, mid, high);\n",
    "        }\n",
    "    }\n",
    "\n",
    "    private static void merge(ArrayList<Collectable> list, int low, int mid, int high) {\n",
    "        ArrayList<Collectable> temp = new ArrayList<>(high - low + 1);\n",
    "        int i = low, j = mid + 1;\n",
    "\n",
    "        while (i <= mid && j <= high) {\n",
    "            if (list.get(i).compareTo(list.get(j)) <= 0) {\n",
    "                temp.add(list.get(i++));\n",
    "            } else {\n",
    "                temp.add(list.get(j++));\n",
    "            }\n",
    "        }\n",
    "\n",
    "        while (i <= mid) {\n",
    "            temp.add(list.get(i++));\n",
    "        }\n",
    "\n",
    "        while (j <= high) {\n",
    "            temp.add(list.get(j++));\n",
    "        }\n",
    "\n",
    "        for (i = 0; i < temp.size(); i++) {\n",
    "            list.set(low + i, temp.get(i));\n",
    "        }\n",
    "    }\n",
    "}"
   ]
  },
  {
   "cell_type": "markdown",
   "metadata": {},
   "source": [
    "## Testing"
   ]
  },
  {
   "cell_type": "code",
   "execution_count": 34,
   "metadata": {
    "vscode": {
     "languageId": "java"
    }
   },
   "outputs": [
    {
     "name": "stdout",
     "output_type": "stream",
     "text": [
      "Flowers before sorting:\n",
      "[( Tulip, petals: 6), ( Daisy, petals: 8), ( Sunflower, petals: 12), ( Rose, petals: 5), ( Lily, petals: 6), ( Orchid, petals: 10), ( Carnation, petals: 4), ( Daffodil, petals: 6), ( Peony, petals: 7), ( Hydrangea, petals: 10)]\n",
      "Flowers after Bubble Sort:\n",
      "[( Carnation, petals: 4), ( Daffodil, petals: 6), ( Daisy, petals: 8), ( Hydrangea, petals: 10), ( Lily, petals: 6), ( Orchid, petals: 10), ( Peony, petals: 7), ( Rose, petals: 5), ( Sunflower, petals: 12), ( Tulip, petals: 6)]\n",
      "Flowers after Selection Sort:\n",
      "[( Carnation, petals: 4), ( Daffodil, petals: 6), ( Daisy, petals: 8), ( Hydrangea, petals: 10), ( Lily, petals: 6), ( Orchid, petals: 10), ( Peony, petals: 7), ( Rose, petals: 5), ( Sunflower, petals: 12), ( Tulip, petals: 6)]\n",
      "Flowers after Insertion Sort:\n",
      "[( Carnation, petals: 4), ( Daffodil, petals: 6), ( Daisy, petals: 8), ( Hydrangea, petals: 10), ( Lily, petals: 6), ( Orchid, petals: 10), ( Peony, petals: 7), ( Rose, petals: 5), ( Sunflower, petals: 12), ( Tulip, petals: 6)]\n",
      "Flowers after Merge Sort:\n",
      "[( Carnation, petals: 4), ( Daffodil, petals: 6), ( Daisy, petals: 8), ( Hydrangea, petals: 10), ( Lily, petals: 6), ( Orchid, petals: 10), ( Peony, petals: 7), ( Rose, petals: 5), ( Sunflower, petals: 12), ( Tulip, petals: 6)]\n",
      "Flowers after Quick Sort:\n",
      "[( Carnation, petals: 4), ( Daffodil, petals: 6), ( Daisy, petals: 8), ( Hydrangea, petals: 10), ( Lily, petals: 6), ( Orchid, petals: 10), ( Peony, petals: 7), ( Rose, petals: 5), ( Sunflower, petals: 12), ( Tulip, petals: 6)]\n"
     ]
    }
   ],
   "source": [
    "import java.util.ArrayList;\n",
    "\n",
    "public class Test {\n",
    "\n",
    "    public static void main(String[] args) {\n",
    "        ArrayList<Collectable> flowers = new ArrayList<>();\n",
    "        flowers.add(new Flower(\"Tulip\", 6));\n",
    "        flowers.add(new Flower(\"Daisy\", 8));\n",
    "        flowers.add(new Flower(\"Sunflower\", 12));\n",
    "        flowers.add(new Flower(\"Rose\", 5));\n",
    "        flowers.add(new Flower(\"Lily\", 6));\n",
    "        flowers.add(new Flower(\"Orchid\", 10));\n",
    "        flowers.add(new Flower(\"Carnation\", 4));\n",
    "        flowers.add(new Flower(\"Daffodil\", 6));\n",
    "        flowers.add(new Flower(\"Peony\", 7));\n",
    "        flowers.add(new Flower(\"Hydrangea\", 10));\n",
    "\n",
    "        System.out.println(\"Flowers before sorting:\");\n",
    "        System.out.println(flowers);\n",
    "\n",
    "        // Sorting using Bubble Sort\n",
    "        Sorting.bubbleSort(flowers);\n",
    "        System.out.println(\"Flowers after Bubble Sort:\");\n",
    "        System.out.println(flowers);\n",
    "\n",
    "        // Sorting using Merge Sort\n",
    "        Sorting.selectionSort(flowers);\n",
    "        System.out.println(\"Flowers after Selection Sort:\");\n",
    "        System.out.println(flowers);\n",
    "\n",
    "        // Sorting using Merge Sort\n",
    "        Sorting.insertionSort(flowers);\n",
    "        System.out.println(\"Flowers after Insertion Sort:\");\n",
    "        System.out.println(flowers);\n",
    "\n",
    "        // Sorting using Merge Sort\n",
    "        Sorting.mergeSort(flowers);\n",
    "        System.out.println(\"Flowers after Merge Sort:\");\n",
    "        System.out.println(flowers);\n",
    "\n",
    "        // Sorting using Quick Sort\n",
    "        Sorting.quickSort(flowers, 0, flowers.size() - 1);\n",
    "        System.out.println(\"Flowers after Quick Sort:\");\n",
    "        System.out.println(flowers);\n",
    "    }\n",
    "}\n",
    "\n",
    "Test.main(null);"
   ]
  }
 ],
 "metadata": {
  "kernelspec": {
   "display_name": "Java",
   "language": "java",
   "name": "java"
  },
  "language_info": {
   "codemirror_mode": "java",
   "file_extension": ".jshell",
   "mimetype": "text/x-java-source",
   "name": "Java",
   "pygments_lexer": "java",
   "version": "17.0.8+7-Ubuntu-120.04.2"
  }
 },
 "nbformat": 4,
 "nbformat_minor": 2
}
