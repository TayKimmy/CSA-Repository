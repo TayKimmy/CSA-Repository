{
 "cells": [
  {
   "cell_type": "markdown",
   "metadata": {},
   "source": [
    "---\n",
    "layout: post\n",
    "title: 2015 FRQ Question 2\n",
    "courses: { csa: {week: 25}}\n",
    "type: hacks\n",
    "---"
   ]
  },
  {
   "cell_type": "markdown",
   "metadata": {},
   "source": [
    "## Question 2\n",
    "Consider a guessing game in which a player tries to guess a hidden word. The hidden word contains only capital letters and has a length known to the player. A guess contains only capital letters and has the same length as the hidden word.\n",
    "After a guess is made, the player is given a hint that is based on a comparison between the hidden word and the guess. Each position in the hint contains a character that corresponds to the letter in the same position in the guess. The following rules determine the characters that appear in the hint.\n",
    "\n",
    "| If the letter in the guess is ... | the corresponding character in the hint is |\n",
    "| - | - |\n",
    "| also in the same position in the hidden word | the matching letter |\n",
    "| also in the hidden word, but in different position | \"*\" |\n",
    "| not in the hidden word | \"+\" |\n",
    "\n",
    "The HiddenWord class will be used to represent the hidden word in the game. The hidden word is passed to the constructor. The class contains a method, getHint, that takes a guess and produces a hint.\n",
    "\n",
    "For example, suppose the variable puzzle is declared as follows.\n",
    "\n",
    "HiddenWord puzzle = new HiddenWord(\"HARPS\");\n",
    "\n",
    "The following table shows several guesses and the hints that would be produced.\n",
    "\n",
    "| Call to getHint | String returned |\n",
    "| - | - |\n",
    "| puzzle.getHint(\"AAAAA\") | \"+A+++\" |\n",
    "| puzzle.getHint(\"HELLO\") | \"H****\" |\n",
    "| puzzle.getHint(\"HEART\") | \"H*++*\" |\n",
    "| puzzle.getHint(\"HARMS\") | \"HAR*S\" |\n",
    "| puzzle.getHint(\"HARPS\") | \"HARPS\" |"
   ]
  },
  {
   "cell_type": "code",
   "execution_count": 5,
   "metadata": {},
   "outputs": [
    {
     "name": "stdout",
     "output_type": "stream",
     "text": [
      "+A+++\n",
      "H****\n",
      "H*++*\n",
      "HAR*S\n",
      "HARPS\n"
     ]
    }
   ],
   "source": [
    "public class HiddenWord {\n",
    "    private String hiddenWord;\n",
    "    public HiddenWord(String hiddenWord) {\n",
    "        this.hiddenWord = hiddenWord;\n",
    "    }\n",
    "    public String getHint(String guess) {\n",
    "        String hint = \"\";\n",
    "        for (int i = 0; i < guess.length(); i++) {\n",
    "            if (guess.charAt(i) == hiddenWord.charAt(i)) {\n",
    "                hint = hint + guess.charAt(i);\n",
    "            } else if (hiddenWord.indexOf(guess.charAt(i)) != -1) {\n",
    "                hint = hint + \"+\";\n",
    "            } else {\n",
    "                hint = hint + \"*\";\n",
    "            }\n",
    "        }\n",
    "        return hint;\n",
    "    }\n",
    "    public static void main(String[] args) {\n",
    "        HiddenWord puzzle = new HiddenWord(\"HARPS\");\n",
    "        System.out.println(puzzle.getHint(\"AAAAA\"));\n",
    "        System.out.println(puzzle.getHint(\"HELLO\"));\n",
    "        System.out.println(puzzle.getHint(\"HEART\"));\n",
    "        System.out.println(puzzle.getHint(\"HARMS\"));\n",
    "        System.out.println(puzzle.getHint(\"HARPS\"));\n",
    "    }\n",
    "}\n",
    "HiddenWord.main(null);"
   ]
  }
 ],
 "metadata": {
  "kernelspec": {
   "display_name": "Java",
   "language": "java",
   "name": "java"
  },
  "language_info": {
   "codemirror_mode": "java",
   "file_extension": ".jshell",
   "mimetype": "text/x-java-source",
   "name": "java",
   "pygments_lexer": "java",
   "version": "17.0.8+7-Ubuntu-120.04.2"
  }
 },
 "nbformat": 4,
 "nbformat_minor": 2
}
