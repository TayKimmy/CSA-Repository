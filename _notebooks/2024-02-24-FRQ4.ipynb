{
 "cells": [
  {
   "cell_type": "markdown",
   "metadata": {},
   "source": [
    "---\n",
    "layout: post\n",
    "title: 2015 FRQ Question 4\n",
    "courses: { csa: {week: 25}}\n",
    "type: hacks\n",
    "comments: true\n",
    "---"
   ]
  },
  {
   "cell_type": "markdown",
   "metadata": {},
   "source": [
    "## Question 4\n",
    "This question involves the design of an interface, writing a class that implements the interface, and writing a method that uses the interface.\n",
    "\n",
    "(a) A number group represents a group of integers defined in some way. It could be empty, or it could contain one or more integers.\n",
    "Write an interface named NumberGroup that represents a group of integers. The interface should have a single contains method that determines if a given integer is in the group. For example, if group1 is of type NumberGroup, and it contains only the two numbers -5 and 3, then group1.contains(-5) would return true, and group1.contains(2) would return false.\n",
    "Write the complete NumberGroup interface. It must have exactly one method.\n",
    "\n",
    "(b) A range represents a number group that contains all (and only) the integers between a minimum value and a maximum value, inclusive.\n",
    "NumberGroup range1 = new Range(-3, 2);\n",
    "represents the group of integer values -3, -2, -1, 0, 1, 2.\n",
    "\n",
    "Write the complete Range class. Include all necessary instance variables and methods as well as a constructor that takes two int parameters. The first parameter represents the minimum value, and the second parameter represents the maximum value of the range. You may assume that the minimum is less than or equal to the maximum.\n",
    "\n",
    "(c) The MultipleGroups class (not shown) represents a collection of NumberGroup objects and isa NumberGroup. The MultipleGroups class stores the number groups in the instance variable groupList (shown below), which is initialized in the constructor.\n",
    "\n",
    "private List<NumberGroup> groupList;\n",
    "\n",
    "Write the MultipleGroups method contains. The method takes an integer and returns true if and only if the integer is contained in one or more of the number groups in groupList.\n",
    "\n",
    "For example, suppose multiple1 has been declared as an instance of MultipleGroups and consists of the three ranges created by the calls new Range(5, 8), new Range(10, 12), and new Range(1, 6). The following table shows the results of several calls to contains.\n",
    "\n",
    "| Call | Result |\n",
    "| - | - |\n",
    "| multiple1.contains(2) | true |\n",
    "| multiple1.contains(9) | false |\n",
    "| multiple1.contains(6) | true |"
   ]
  },
  {
   "cell_type": "code",
   "execution_count": 2,
   "metadata": {},
   "outputs": [
    {
     "name": "stdout",
     "output_type": "stream",
     "text": [
      "range1.contains(0): true\n",
      "multiple.contains(2): true\n",
      "multiple.contains(9): false\n",
      "multiple.contains(6): true\n"
     ]
    }
   ],
   "source": [
    "public interface NumberGroup {\n",
    "    boolean contains(int integer);\n",
    "}\n",
    "\n",
    "public class Range implements NumberGroup {\n",
    "    public int min;\n",
    "    public int max;\n",
    "    public Range (int min, int max) {\n",
    "        this.min = min;\n",
    "        this.max = max;\n",
    "    }\n",
    "    public boolean contains(int integer) {\n",
    "        if (integer >= min && integer <= max) {\n",
    "            return true;\n",
    "        }\n",
    "        return false;\n",
    "    }\n",
    "}\n",
    "\n",
    "public class MultipleGroups implements NumberGroup {\n",
    "    private List<NumberGroup> grouplist;\n",
    "\n",
    "    public MultipleGroups (List<NumberGroup> grouplist) {\n",
    "        this.grouplist = grouplist;\n",
    "    }\n",
    "\n",
    "    public boolean contains(int integer) {\n",
    "        for (NumberGroup num : grouplist) {\n",
    "            if (num.contains(integer)) {\n",
    "                return true;\n",
    "            }\n",
    "        }\n",
    "        return false;\n",
    "    }\n",
    "}\n",
    "\n",
    "public class Main {\n",
    "    public static void main(String[] args) {\n",
    "        NumberGroup range1 = new Range(-3,2);\n",
    "        System.out.println(\"range1.contains(0): \" + range1.contains(0));\n",
    "        NumberGroup range2 = new Range(5, 8);\n",
    "        NumberGroup range3 = new Range(10, 12);\n",
    "        NumberGroup range4 = new Range(1, 6);\n",
    "        List<NumberGroup> grouplist = new ArrayList<NumberGroup>();\n",
    "        grouplist.add(range2);\n",
    "        grouplist.add(range3);\n",
    "        grouplist.add(range4);\n",
    "        MultipleGroups multiple1 = new MultipleGroups(grouplist);\n",
    "        System.out.println(\"multiple.contains(2): \" + multiple1.contains(2));\n",
    "        System.out.println(\"multiple.contains(9): \" + multiple1.contains(9));\n",
    "        System.out.println(\"multiple.contains(6): \" + multiple1.contains(6));\n",
    "    }\n",
    "}\n",
    "Main.main(null);"
   ]
  },
  {
   "cell_type": "markdown",
   "metadata": {},
   "source": [
    "### Reflection\n",
    "This FRQ centered around methods and control structures, and contained interfaces and implemented inheritance. The FRQ was mainly about the use of a contains method which was changed in each new class that implemented the interface. This FRQ wasn't too bad although it was a bit time consuming as I took some time thinking of what my next steps should be. Overall, this FRQ was fairly simple and I was able to solve it without outside help."
   ]
  }
 ],
 "metadata": {
  "kernelspec": {
   "display_name": "Java",
   "language": "java",
   "name": "java"
  },
  "language_info": {
   "codemirror_mode": "java",
   "file_extension": ".jshell",
   "mimetype": "text/x-java-source",
   "name": "java",
   "pygments_lexer": "java",
   "version": "17.0.8+7-Ubuntu-120.04.2"
  }
 },
 "nbformat": 4,
 "nbformat_minor": 2
}
