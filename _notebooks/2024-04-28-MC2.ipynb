{
 "cells": [
  {
   "cell_type": "markdown",
   "metadata": {},
   "source": [
    "---\n",
    "toc: true\n",
    "layout: post\n",
    "title: Individual MC Practice 2\n",
    "type: tangibles\n",
    "courses: { csa: {week: 31} }\n",
    "---"
   ]
  },
  {
   "cell_type": "markdown",
   "metadata": {},
   "source": [
    "## My Score\n",
    "I got a 24/40.\n",
    "\n",
    "## Missed Questions\n",
    "| Question # | Why I missed | How I will improve |\n",
    "| - | - | - |\n",
    "| 3 | I didn't know that dividing an int by a double results in a double value. But even if I didn't know, I could still have gotten the right answer because casting won't even work since it casts everything. | Think harder when solving problems. |\n",
    "| 5 | I didn't know that a compiler error will occur when the parameters for the constructor are the same in the parent class (String, String, Boolean) | I will study inheritance more. |\n",
    "| 6 | If there is no parenthesis next to what the double is casting, it only casts that one number. | Understand casting more. |\n",
    "| 7 | I read the answers wrong and I wasn't focused enough. | Be FOCUSED!!! |\n",
    "| 8 | I didn't know you could assign int values to double. I also in't notice that n1 and n2 were not defined. | Read the code much more efficiently. |\n",
    "| 9 | I clicked the wrong answer. | Know what choice I choose. |\n",
    "| 11 | The code actually prints down to 0 because num-- is in the front. | Read the code carefully. |\n",
    "| 12 | .getName() only works if it is not null, so we have to determine if object is not null using borrower != null. | Gain a deeper understanding of objects and runtime errors. |\n",
    "| 13 | I forgot to take the opposite of and, which is or. | FOCUS! |\n",
    "| 14 | Because of the return statements, the other if statements are not used. | Look through the code carefully. |\n",
    "| 15 | I clicked the wrong one (I think), or I forgot that the end for Math.random is not inclusive. | Look at code carefully. |\n",
    "| 16 | I didn't really understand what the code was doing. | Look through the code carefully and try to make an educated guess if I don't know anything. |\n",
    "| 25 | Since the loop starts from length - 1, the e from the apple is not included in the new string. | Focus on the loops and their bounds. |\n",
    "| 31 | The variable i in the choice 3 is the actual element, not the index. | Focus on the code. |\n",
    "| 39 | I found it hard to follow this code and I just guessed. Partially, I didn't know what compareTo returned. | Focus on the code and remember what compareTo returns. |\n",
    "| 40 | If the message method is removed from class A, the parent class, there will be a compile error because the obj1 is defined as an object of Type A, and therefore needs a method from its class. | Remember that even though obj1 still returns the message method from Class B, it still needs the Class A. |\n",
    "\n",
    "## Reflection\n",
    "This exam was quite disappointing for me because I did really bad. But, by looking at similar problems over and over again, I am learning the different problem types and their solutions. I am confident that I will get better, I just hope it is enough to get a 5 on the exam."
   ]
  }
 ],
 "metadata": {
  "kernelspec": {
   "display_name": "Java",
   "language": "java",
   "name": "java"
  },
  "language_info": {
   "codemirror_mode": "java",
   "file_extension": ".jshell",
   "mimetype": "text/x-java-source",
   "name": "java",
   "pygments_lexer": "java",
   "version": "17.0.8+7-Ubuntu-120.04.2"
  }
 },
 "nbformat": 4,
 "nbformat_minor": 2
}
