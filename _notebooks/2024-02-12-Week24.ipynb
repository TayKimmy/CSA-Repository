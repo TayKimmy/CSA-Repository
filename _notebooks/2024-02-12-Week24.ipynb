{
 "cells": [
  {
   "cell_type": "markdown",
   "metadata": {},
   "source": [
    "---\n",
    "layout: post\n",
    "comments: true\n",
    "title: Week 24 Plans\n",
    "courses: { csa: {week: 24}}\n",
    "type: plans\n",
    "---"
   ]
  },
  {
   "cell_type": "markdown",
   "metadata": {},
   "source": [
    "## Plans\n",
    "- Final preparations for N@TM\n",
    "- Fix CORS error\n",
    "- Fix up the CSS a bit\n",
    "- Prepare for N@TM presentation\n",
    "- Take pictures at event and look around\n",
    "- Work on the N@TM Blog"
   ]
  }
 ],
 "metadata": {
  "language_info": {
   "name": "python"
  }
 },
 "nbformat": 4,
 "nbformat_minor": 2
}
