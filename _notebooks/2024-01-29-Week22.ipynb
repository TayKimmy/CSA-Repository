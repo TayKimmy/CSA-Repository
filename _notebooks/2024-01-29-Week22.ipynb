{
 "cells": [
  {
   "cell_type": "markdown",
   "metadata": {},
   "source": [
    "---\n",
    "layout: post\n",
    "comments: true\n",
    "title: Week 22 Plans\n",
    "courses: { csa: {week: 22}}\n",
    "type: plans\n",
    "---"
   ]
  },
  {
   "cell_type": "markdown",
   "metadata": {},
   "source": [
    "## Plans\n",
    "- Fix up the login/signup/account\n",
    "- Fetch from the backend\n",
    "- Prepare for the live review\n",
    "- Get things workings"
   ]
  }
 ],
 "metadata": {
  "language_info": {
   "name": "python"
  }
 },
 "nbformat": 4,
 "nbformat_minor": 2
}
