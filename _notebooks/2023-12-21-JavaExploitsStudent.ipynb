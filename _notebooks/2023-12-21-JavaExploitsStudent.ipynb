{
 "cells": [
  {
   "cell_type": "markdown",
   "metadata": {},
   "source": [
    "---\n",
    "title: Java Exploits and Cybersecurity\n",
    "author: david\n",
    "type: hacks\n",
    "courses: { csa: {week: 17} }\n",
    "description: Lesson on Java exploits and cybersecurity.\n",
    "toc: True\n",
    "---"
   ]
  },
  {
   "cell_type": "markdown",
   "metadata": {},
   "source": [
    "## HTTP vs HTTPS Sites\n",
    "> These are the two types of sites, HTTP being insecure and HTTPS being secure.\n",
    "\n",
    "There are two types of sites, HTTP and HTTPS sites. One is obviously more secure than the other but why and how exactly is it more secure? The following sections will give an overview of this.\n",
    "\n",
    "**Popcorn Hack:** Why is HTTPS more secure than HTTP?\n",
    "\n",
    "HTTPS uses TLS to encrypt requests and responseds, and digitially signing them, which is far more secure than regular HTTP requests with no security or encryption."
   ]
  },
  {
   "cell_type": "markdown",
   "metadata": {},
   "source": [
    "### HTTP\n",
    "In this case we are looking at posting passwords without encryption. Going to [vulnweb.com](http://testphp.vulnweb.com/login.php), a common test site for vulnerabilities, we can test and see how insecure data can be dangerous. Keep in mind that this is illegal to do on actual websites and networks.\n",
    "\n",
    "We use a network scanner to track information between the internet and the client device. In this example we enter test data in to the username and password inputs:\n",
    "\n",
    "![image](https://github.com/CSA-Tri-2/CSA-Tri-2/assets/111480448/2d6bd935-79fe-4178-a6b7-7d6292892b8a)\n",
    "\n",
    "It looks like everything is secure to the user, the password is blocked from your general view and the website seems slightly trustworthy with it's formatting. This is, however, very far from the truth, especially when we begin using the network scanner to see the traffic.\n",
    "\n",
    "![image](https://github.com/CSA-Tri-2/CSA-Tri-2/assets/111480448/0b71ae66-63fe-4864-aa50-d9ecd96723d6)\n",
    "\n",
    "Here we see something that we are all familiar with, a POST. When we open the contents of this post, we can see the following:\n",
    "\n",
    "![image](https://github.com/CSA-Tri-2/CSA-Tri-2/assets/111480448/b8e1ec9f-850f-4d6b-b6ab-a8af9528ac3d)\n",
    "\n",
    "We can see the password in plain text that was inputted in the password field of the website. This is a very clear reason why you should never store your passwords without the use of encryption, like with TCP and TLS handshakes. "
   ]
  },
  {
   "cell_type": "markdown",
   "metadata": {},
   "source": [
    "### HTTPS\n",
    "If I, for example, log into MyPlan, we can see an entirely different story:\n",
    "\n",
    "![image](https://github.com/CSA-Tri-2/CSA-Tri-2/assets/111480448/7215c1d2-96dc-4e5e-b1b7-da0e47a4de29)\n",
    "\n",
    "Here we see no POST, mainly because we are using something called TCP and TLS handshakes, which create an encrypted connection between the user and backend server."
   ]
  },
  {
   "cell_type": "markdown",
   "metadata": {},
   "source": [
    "## TCP and TLS\n",
    "> Describing the encryption and communication protocols between servers for secure data.\n",
    "\n",
    "This handshake process allows for a secure and encrypted method for sensitive data to be transferred between the client and server.\n",
    "\n",
    "![](https://cf-assets.www.cloudflare.com/slt3lc6tev37/5aYOr5erfyNBq20X5djTco/3c859532c91f25d961b2884bf521c1eb/tls-ssl-handshake.png)"
   ]
  },
  {
   "cell_type": "markdown",
   "metadata": {},
   "source": [
    "### TCP Three-Way Handshake\n",
    "> The step process of connecting to the server securely.\n",
    "\n",
    "A TCP handshake, more specifically a three-way handshake, is how the client and server initially establish a connection that is later used for communication. This method isn't secure by itself however it helps later establish a TLS connection which is more secure.\n",
    "\n",
    "![tcp](https://github.com/CSA-Tri-2/CSA-Tri-2/assets/111480448/376fa2f2-b050-4445-8e36-238c0992ec6b)\n",
    "\n",
    "#### Process\n",
    "\n",
    "1. SYN (**synchronize**) - initiates connection\n",
    "    - sends ISN (initial sequence number) that is used as an **identifier**, organizing the data sent/received correctly\n",
    "2. SYN-ACK (synchronize-**acknowledge**) - acknowledgement of connection\n",
    "    - sends it's own ISN and the client's ISN, confirming a connection\n",
    "3. ACK (acknowledge) - completing the connection\n",
    "    - indicates that it knows the server's ISN\n",
    "\n",
    "The server is now ready for a TLS connection."
   ]
  },
  {
   "cell_type": "markdown",
   "metadata": {},
   "source": [
    "### TLS Handshake\n",
    "> This is where the encrypted data is transferred between the client and server. This exchange varies on the version of TLS that is used, however they all have a similar series of steps.\\\n",
    "\n",
    "This is how secure communication of secure information is sent between the client and server. This is how the more common TLS **v1.2** typically works, however with the recent TLS v1.3, the basic steps remain the same.\n",
    "\n",
    "![tls](https://github.com/CSA-Tri-2/CSA-Tri-2/assets/111480448/abc686bd-4350-4e45-8dfc-3916abe26412)\n",
    "\n",
    "1. Client Hello - begins connection\n",
    "    - send the TLS **version** that is supported, agreeing on a method of communication\n",
    "    - provides the supported cipher suites, deciding on method of encryption\n",
    "    - creates and sends string of random bytes used to create entropy in creating the pre-master secret\n",
    "2. Server Hello - server response confirming connection\n",
    "    - selects the highest supported TLS version, creating compatibility\n",
    "    - selects a compatible cipher **suite**\n",
    "    - creates another random string of bytes contributing to the creation of the pre-master secret\n",
    "3. Authentication - SSL certificate\n",
    "    - server sends the SSL certificate for client to read\n",
    "4. Pre-Master Secret - shared secret between client and server\n",
    "    - used to make session keys for safe transmission of data\n",
    "    - this makes sure that only the server can access any data transmitted\n",
    "5. **Session Keys** - common set of keys\n",
    "    - used to decrypt any information sent between client and server\n",
    "6. Finished Message - finishes setting up encryption\n",
    "    - the client and server can now send and receive encrypted data\n",
    "\n",
    "The server and client can now exchange information with a smaller risk than without encryption.\n",
    "\n",
    "**Note:** Encryption is not 100% safe. TLS 1.2 has been recently replaced with TLS 1.3, due to RSA being deemed insecure when compared to ECDHE (**Elliptic Curve Diffie-Hellman**). This is because RSA is relatively shorter in length and with the advance of quantum computing is easier to decrypt. You can learn more about this [here](https://www.cloudflare.com/learning/ssl/keyless-ssl/).\n",
    "\n",
    "**Popcorn Hack:** In your own words describe how the TCP and TLS handshakes work to create a reliable and secure connection between the client and server.\n",
    "\n",
    "The TCP and TLS handshakes create a reliable connection by exchanging SYN and ACK packages for communcation parameters. TLS adds on TCP and adds a secure layer, and initiates a handshake that involves key exchange, authentication, and encryption algoritms."
   ]
  },
  {
   "cell_type": "markdown",
   "metadata": {},
   "source": [
    "## Other Common Exploits\n",
    "> These are some exploits that may be used through the browser to not only steal information through packet sniffing but also download malicious content that can gather sensitive data.\n",
    "\n",
    "### Phishing\n",
    "> This is another way that hackers can more directly steal information.\n",
    "\n",
    "Moving away network interception exploits, this is another common tool that is extremely easy to replicate with the right knowledge. Websites that mask themselves as other websites usually catch people that don't pay much attention to what they click. It is extremely easy to create such sites that are port-forwarded through local nginx servers, capturing data that unsuspecting visitors may enter. These sites usually use simple POST actions to transmit the data to the server, making these sites not only dangerous to access because they steal information but also dangerous because they are easy to intercept as previously mentioned. Here are a few examples of what they might look like:\n",
    "\n",
    "![image](https://github.com/CSA-Tri-2/CSA-Tri-2/assets/111480448/3fb5213e-0662-4647-a8c5-5a29aba47840)\n",
    "\n",
    "![image](https://github.com/CSA-Tri-2/CSA-Tri-2/assets/111480448/07b3acbb-b9a6-4874-bdf8-5a0fce672087)"
   ]
  },
  {
   "cell_type": "markdown",
   "metadata": {},
   "source": [
    "### Computer Exploits\n",
    "> Hackers can also steal information through malware that is installed onto a user's computer.\n",
    "\n",
    "Information doesn't always have to be stolen through the transmission of data to servers. It can also be stolen with local software. Some common methods are:\n",
    "\n",
    "- Viruses\n",
    "    - attach themselves to programs and replicate as that **host** program runs\n",
    "- Worms\n",
    "    - self-replicating programs that spread across networks\n",
    "- Trojans\n",
    "    - malware **disguising** itself as another software within other system\n",
    "- Spyware\n",
    "    - tracking data about the user like keystrokes, online activities, and sensitive information\n",
    "- Ransomware\n",
    "    - encrypts user data and demands ransom for decryption key\n",
    "- Rootkits\n",
    "    - modify system files to hide malware\n",
    "\n",
    "All of these are types of malicious software that can be used to steal the information of people. Such software is usually installed due to a lack of precautions from the user of a device, resulting from clicking on links that contain malware. This can be very easily prevented by using the following:\n",
    "\n",
    "- Using a strong password that would be hard to guess.\n",
    "    - Use 2FA when you are able to.\n",
    "- Be careful which websites you visit.\n",
    "    - Don't click on random links.\n",
    "    - Be careful of emails.\n",
    "- Having an updated system with the latest security features.\n",
    "    - Using the latest antivirus program to secure your device.\n",
    "    - Make sure all encryption you are using isn't outdated.\n",
    "- Use secure Wi-Fi networks.\n",
    "    - Use the latest security encryption on your Wi-Fi networks.\n",
    "    - Use trustworthy VPNs when on public networks.\n",
    "\n",
    "**Popcorn Hack:** Research three specific example of such attacks that have occurred throughout history.\n",
    "\n",
    "1. Sony Picture Hack (2014) - Sony Pictures Entertainment was attacked in 2014, and it resulted in the leak of sensitive internal documents, unreleased films, and confidential emailers.\n",
    "2. WannaCry Ransomware (2017) - It was a global attack that infected houndreds of thousands of computers. It exploited a Windows vulnerability, EternalBlue. It encrypted files and demanded payment in Bitcoin for their release. \n",
    "3. Stuxnet (2010) - One of the first times cyber attacks were used as a physical weapon. It was used to destroy the centrifuges Iran was using for their nuclear program to create uranium. It was a very sophisticated worm designed to target SCADA systems. It shed light on the potential use of malware for espionage.\n"
   ]
  },
  {
   "cell_type": "markdown",
   "metadata": {},
   "source": [
    "## What is a SQL Inject\n",
    "\n",
    "Often times, web services provide users the choice to input data, which is then sent to the backend of the service. This data could then be processed and be stored in a database table for future use. A SQL Inject takes advantage of this relationship. Since every database interaction can be represented with an SQL query, if our input data happened to be a SQL fragment that completed the query to perform unexpected tasks, then isn't it possible for us to gain unauthorized access to the database? \n",
    "\n",
    "These are some of the notable SQL Inject breaches in the past years:\n",
    " - GhostShell attack (Targetted university records)\n",
    " - Turkish government (Breached government website to wipe national debt)\n",
    " - 7-Eleven breach (Stole credit card information from corporate systems)\n",
    "\n",
    "### Popcorn Hack:  \n",
    "Name three more ways of how an SQL Inject could be used for malicious actions, and what are the consequences of each action?\n",
    "\n",
    "1. You can change the database to add yourself to the database or give yourself some kind of role like an admin role\n",
    "2. Hack into bank databases and steal credit card information\n",
    "3. Can give access to confidential files or folders"
   ]
  },
  {
   "cell_type": "markdown",
   "metadata": {},
   "source": [
    "## What does an SQL Inject look like?\n",
    "Pretend our school had a website has a simple function that returns a users information when they input their unique id and password (that only they know about). To retrieve this information, our backend has the following SQL query:\n",
    "\n",
    "```sql\n",
    "SELECT * FROM users_info WHERE uuid = 1920450 AND password=\"5994471abb01112afcc18159f6cc74b4f511b9980\";\n",
    "```\n",
    "\n",
    "On the frontend, we may expect an html table that lists the information of the user who corresponds to the id that we inputted. Maybe something that looks like this\n",
    "\n",
    "<table>\n",
    "    <tr>\n",
    "        <th>ID</th>\n",
    "        <th>Student</th>\n",
    "        <th>GPA</th>\n",
    "        <th>Rank</th>\n",
    "    </tr>\n",
    "    <tr>\n",
    "        <td>1920450</td>\n",
    "        <td>Alexander Lu</td>\n",
    "        <td>3.85</td>\n",
    "        <td>79</td>\n",
    "    </tr>\n",
    "</table>  \n",
    "\n",
    "If we were normal students, we should think this is enough security. Unique user IDs, hashed passwords, everthing is chill right?   \n",
    "\n",
    "***WRONG!!!!***\n",
    "\n",
    "### Performing the Inject\n",
    "Now, knowing the name of the table, we could do a lot more with this feature. Even if I wasn't a student who knew his ID for a look up, I could still perform an SQL inject on this service. What if instead of an ID, I entered the following string as my query?\n",
    "\n",
    "```sql\n",
    "1927347 OR 1=1; --\n",
    "```\n",
    "\n",
    "This might not make sense the first time you see it, but lets place this into our last SQL query to see how it looks now.  \n",
    "\n",
    "```sql\n",
    "SELECT * FROM users_info WHERE uuid = 1927347 OR 1=1; -- AND password=\"5994471abb01112afcc18159f6cc74b4f511b9980\";\n",
    "```  \n",
    "\n",
    "Let's break down each part of the string:\n",
    " - `1927347`: A random uuid that we supplied, THIS DOESN'T EVEN HAVE TO EXIST. You'll see why.\n",
    " - `OR`: A boolean condition in SQL, essentially makes it so that only one of the conditions must be met for the command (`SELECT * FROM users_info`) to execute properly.\n",
    "   - Now do you see where we are going with this?\n",
    " - `1=1`: A simple arithmetic statement that is ***ALWAYS TRUE***\n",
    "   - Even if our id isn't correct because the fact 1=1 is true for *every record of the table*, our database now thinks we want to return **every single row**.\n",
    " - `; --`: The semicolon finishes up our sql query, and the -- comments out the rest of the SQL query, maintaining the integrity of our statement and allowing the injected query to run properly.  \n",
    "\n",
    "Our frontend now might look something like this:\n",
    "<table>\n",
    "    <tr>\n",
    "        <th>ID</th>\n",
    "        <th>Student</th>\n",
    "        <th>GPA</th>\n",
    "        <th>Rank</th>\n",
    "    </tr>\n",
    "    <tr>\n",
    "        <td>1923498</td>\n",
    "        <td>Alexander Lu</td>\n",
    "        <td>3.85</td>\n",
    "        <td>79</td>\n",
    "    </tr>\n",
    "    <tr>\n",
    "        <td>1910483</td>\n",
    "        <td>David Vasilev</td>\n",
    "        <td>3.85</td>\n",
    "        <td>77</td>\n",
    "    </tr>\n",
    "    <tr>\n",
    "        <td>1899283</td>\n",
    "        <td>Ethan Zhao</td>\n",
    "        <td>4.00</td>\n",
    "        <td>22</td>\n",
    "    </tr>\n",
    "    <tr>\n",
    "        <td>...</td>\n",
    "        <td>...</td>\n",
    "        <td>...</td>\n",
    "        <td>...</td>\n",
    "    </tr>\n",
    "</table>  \n",
    "\n",
    "### Popcorn hack:  \n",
    "Explain briefly, what a SQL inject is, in your own words, and how it functions:\n",
    "\n",
    "A SQL inject is a type of cyber attack where the attacker manipulates input fields to inject malicious information into database query. BY exploiting vulnerabilities, hacks can alter the SQL query and gain unauthorized access, transform the data, or execute administrative operations inside the database."
   ]
  },
  {
   "cell_type": "markdown",
   "metadata": {},
   "source": [
    "## Methods of SQL Injects\n",
    "There are many different ways of performing an SQL inject. Ultimately, it hinges on your knowledge of SQL syntax to game whatever query that your target has set up. Here are just some of the few strategies I've learned over the years, but you can gain addiitonal practice from doing CTF challenges.\n",
    "\n",
    "### Using keyword OR\n",
    "Essentially, this was the strategy that you saw above. The intuition behind this strategy is offering an alternate condition for a Given SQL statement to succeed, to bypass any authentication checks. Keep in mind that there might be additional query after the ineject, so we would require SQL comments like `--` to ensure our inject works properly.\n",
    "\n",
    "### Using Union \n",
    "The `UNION` keyword in SQL is often used to join two SQL statements together, more specifically, the `SELECT` statement. What this allows us to do is to get the results of two seperate SELECT statements, and can be used to give us additional info on the database's structure by writing a new command. Take the SQL statement from above:  \n",
    "\n",
    "```sql\n",
    "SELECT * FROM users_info WHERE uuid = ... AND password='...';\n",
    "```  \n",
    "\n",
    "The statement created by the server only looks for info in the `users_info` table. But with union, we can add an additional query to the end of this. For this example, I'll be performing an inject on the uuid field. The inject will look something like this:\n",
    "\n",
    "```sql\n",
    "123' UNION SELECT name, sql from sqlite_master;--\n",
    "```\n",
    "\n",
    "Now the actual query looks like this:\n",
    "\n",
    "```sql\n",
    "SELECT * FROM users_info WHERE uuid ='123' UNION SELECT name, sql from sqlite_master;-- ... AND password=';\n",
    "```  \n",
    "\n",
    "Even if the first select statement doesn't return anything, our union statement will select the name and schema of the database in the backend. However, this command only works for an sqlite server, as we know the name of the table to be sqlite_master, and probably won't work for any services hosted through MySQL, MariaDB, Postgresql or etc.\n",
    "\n",
    "### An Example I saw last week\n",
    "<img src=\"https://ylu-1258.github.io/YLU_blog/assets/img/Exploits_imgs/image.png\">"
   ]
  },
  {
   "cell_type": "markdown",
   "metadata": {},
   "source": [
    "### Protecting Against SQL injects\n",
    "Obviously, if every company's database and services were fragile enough to be attacked with SQLinjects, the world would be in flames. There are many ways and methods to protect against these attacks.\n",
    "\n",
    "#### Placing Limits on User Inputs\n",
    "A common, and simple strategy to use is to place restrictions on what the user can input. Much of our SQLinjects rely on adding additional SQL statements and code to execute what we wish for it to do. Some of the following tactics could work to protect against SQL Injects:\n",
    " - Reducing the maximum input length\n",
    " - Restricting the use of special characters used for query (; - ' etc.) \n",
    " - Validating user input (try not to use textboxes if you can, utilize selection boxes, dropdown menus, etc.)\n",
    " - Principle of least privilege\n",
    "    - Do not give DELETE, INSERT, UPDATE permissions if not needed. Give the least authority on the databse that's required for the service to function.\n",
    "\n",
    "### Parameterized Statements\n",
    "Often in the backend, we may construct SQL Queries using string concatenation. ***DON'T DO THIS.*** While it is convinient, using parameterized statements are much more secure. considering the following two examples:"
   ]
  },
  {
   "cell_type": "code",
   "execution_count": null,
   "metadata": {},
   "outputs": [],
   "source": [
    "import java.sql.*\n",
    "// The user we want to find.\n",
    "String email = \"user@email.com\";\n",
    "\n",
    "// Connect to the database.\n",
    "Connection conn = DriverManager.getConnection(URL, USER, PASS);\n",
    "Statement stmt = conn.createStatement();\n",
    "\n",
    "// Bad, bad news! Don't construct the query with string concatenation.\n",
    "String sql = \"SELECT * FROM users WHERE email = '\" + email + \"'\";\n",
    "\n",
    "// I have a bad feeling about this...\n",
    "ResultSet results = stmt.executeQuery(sql);\n",
    "\n",
    "while (results.next()) {\n",
    "  // ...oh look, we got hacked.\n",
    "}\n"
   ]
  },
  {
   "cell_type": "code",
   "execution_count": null,
   "metadata": {},
   "outputs": [],
   "source": [
    "import java.sql.*\n",
    "// Connect to the database.\n",
    "Connection conn = DriverManager.getConnection(URL, USER, PASS);\n",
    "\n",
    "// Construct the SQL statement we want to run, specifying the parameter.\n",
    "String sql = \"SELECT * FROM users WHERE email = ?\";\n",
    "\n",
    "// Generate a prepared statement with the placeholder parameter.\n",
    "PreparedStatement stmt = conn.prepareStatement(sql);\n",
    "\n",
    "// Bind email value into the statement at parameter index 1.\n",
    "stmt.setString(1, email);\n",
    "\n",
    "// Run the query...\n",
    "ResultSet results = stmt.executeQuery(sql);\n",
    "\n",
    "while (results.next())\n",
    "{\n",
    "    // ...do something with the data returned.\n",
    "}"
   ]
  },
  {
   "cell_type": "markdown",
   "metadata": {},
   "source": [
    "In the first example, we used regular string concatenation to construct our query. When we send our final query statement to the database manager, it just executes the query simply as it is, even if a malicious party injected harmful code into it. This is ***BAD***  \n",
    "\n",
    "In the second example, we used parameterized statements and then proceeded to update our query statement with the desired value. This allows the databse driver to interpret the SQL statement before executing, which gives us the ability to prevent injected harmful code from running. The data is treated as data, not as SQL queries. This is ***GOOD***.  \n",
    "\n",
    "From my knowledge, I believe our current spring inmplementation uses Object Relational Mapping to make Database entries act as Java objects. These implementations typically already use aprameterized statements, which serves to add a layer of security to our applications. However, ORM applications still allow you to concatenate strings for more complex SQL queries, which could still result in a vulnerability.  \n",
    "\n",
    "There are alot more ways of securing against SQL attacks, like client-side validation, but you can research that on your own, **if you write a blog on it, it could be a good reason to add points to your hacks**."
   ]
  },
  {
   "cell_type": "markdown",
   "metadata": {},
   "source": [
    "## What is XSS?\n",
    "XSS (Cross Site Scripting) is a security vunerability.\n",
    "\n",
    "**OCCURS WHEN** an attacker injects malicious scripts into web pages that are viewed by other users.\n",
    "\n",
    "The scripts can be executed in the context of a user's browser, leading to potential harm:\n",
    "1. Stealing sensitive information\n",
    "2. Session hijacking\n",
    "3. Defacing websites\n",
    "\n",
    "A term needed to know to understand XSS is **payload**: A \"payload\" refers to the malicious code or set of instructions that an perpetrator (attacker) delivers to a target system to achieve a specific objective, ex. stealing information from others.\n",
    "\n",
    "**Popcorn hack:**\n",
    "What are two other possible harms of XSS?\n",
    "1. Keylogging - XSS can be used to log keystrokes - which means people can see what you type - on certain web pages. Attackers can record sensitive information such as usernames and passwords as users interact with compromised sites.\n",
    "2. Spread of worms - XSS vulnerabilities can be exploited to inject worms or scripts into web pages. These can then make their way into users who visit the pages, leading to more harm and damage.\n",
    "3. User Impersonation - XSS can be utilized to manipulate content of websites, and can allow attackers to imperesonate users or manipulate displyed information."
   ]
  },
  {
   "cell_type": "markdown",
   "metadata": {},
   "source": [
    "## 3 Main Types of XSS:\n",
    "\n",
    "### **Stored XSS:**\n",
    "**General Definition**: Occurs when the malicious script is permanently stored on the target server and served to users whenever they access the compromised page.\n",
    "\n",
    "![image](https://www.imperva.com/learn/wp-content/uploads/sites/13/2019/01/sorted-XSS.png)\n",
    "\n",
    "**Steps based on the diagram:**\n",
    "1. *Perpetrator Discovers Vulnerability:*\n",
    "    - Description: The attacker, known as the perpetrator, identifies a website that has a security vulnerability, often related to inadequate input validation or output encoding.\n",
    "    - Objective: The goal is to find a weakness that allows the injection of malicious scripts into the web application.\n",
    "2. *Injection of Malicious Script:*\n",
    "    - Description: The perpetrator injects a malicious script into the vulnerable website. This script is designed to execute specific actions when loaded by visitors' browsers.\n",
    "    - Objective: The injected script is crafted to steal sensitive information, commonly session cookies, from users who visit the compromised page.\n",
    "3. *Activation of Malicious Script:*\n",
    "    - Description: Whenever a visitor accesses the perpetrated website, the injected malicious script is activated within their browser.\n",
    "    - Objective: The script executes in the context of the user's session, enabling the attacker to carry out actions on behalf of the user or extract sensitive information.\n",
    "4. *Sending Stolen Session Cookies:*\n",
    "    - Description: The malicious script, now activated during each visitor's session, collects the session cookies of the users.\n",
    "    - Objective: The stolen session cookies are sent back to the perpetrator, who can then use these cookies to impersonate the users, gaining unauthorized access to their accounts.\n",
    "\n",
    "**Example:** An attacker discovers that a website allows user-generated content without proper input validation. They inject a script into a comment section, and whenever other users view that comment, the malicious script executes in their browsers, stealing their session cookies. The attacker then uses these stolen session cookies to log in as the compromised users."
   ]
  },
  {
   "cell_type": "markdown",
   "metadata": {},
   "source": [
    "### **Reflected XSS:**\n",
    "**General Definition:** The injected script is part of the user's request and reflected back to the user, often via a crafted link. Unlike a Stored XSS, it doesn't exist on the target server, rather it exists in the malicious link.\n",
    "\n",
    "![image](https://media.geeksforgeeks.org/wp-content/uploads/20210706191745/tuxpicom1625579254-660x373.jpg)\n",
    "\n",
    "**Steps based on the diagram:**\n",
    "1. *Perpetrator Sends Malicious Links:*\n",
    "    - Description: The attacker, known as the perpetrator, sends crafted and malicious links to potential victims.\n",
    "    - Objective: The links contain specially crafted payloads, often in the form of parameters in the URL, that exploit vulnerabilities on the targeted website.\n",
    "2. *User Clicks the Link and Execution in the Browser:*\n",
    "    - Description: A user receives the malicious link and clicks on it.\n",
    "    - Objective: The payload embedded in the link is executed within the user's browser, exploiting the vulnerability on the target website.\n",
    "3. *Browser Sends Private Data to the Attacker:*\n",
    "    - Description: As a result of the executed payload, the user's browser performs actions on the targeted website, often unintentionally.\n",
    "    - Objective: The payload may include code that steals sensitive information, such as session cookies or other private data, from the user's session.\n",
    "\n",
    "**Example:** An attacker discovers a website with a search feature that reflects the user's input in the URL without proper validation. The attacker sends a crafted link to a user, and when the user clicks it, the payload in the URL is reflected back by the website. This payload includes a script that steals the user's session cookie and sends it to the attacker."
   ]
  },
  {
   "cell_type": "markdown",
   "metadata": {},
   "source": [
    "### **DOM-based XSS:**\n",
    "**General Definition**: DOM-based Cross-Site Scripting (DOM-based XSS) is a type of Cross-Site Scripting attack where the vulnerability is located in the Document Object Model (DOM) of a web page. Unlike traditional XSS attacks, where the malicious payload is inserted into the HTML content, DOM-based XSS occurs in the client-side script itself. \n",
    "\n",
    "![img](https://www.researchgate.net/publication/348065719/figure/fig7/AS:974893847937024@1609444214143/DOM-based-XSS-Attack-Model.png)\n",
    "\n",
    "**Steps based on diagram:**\n",
    "1. *Attacker Crafts a Malicious URL:*\n",
    "    - Description: The attacker creates a specially crafted URL containing a malicious payload, typically in the fragment part of the URL (e.g., after the # symbol).\n",
    "    - Objective: The goal is to inject malicious JavaScript code into the victim's browser.\n",
    "2. *User Opens the Link:*\n",
    "    - Description: The attacker tricks the user into opening the malicious link, causing the victim's browser to make a request to the targeted website with the malicious payload.\n",
    "    - Objective: The user's action initiates the process of loading the targeted website.\n",
    "3. *Website Receives the Request:*\n",
    "    - Description: The targeted website receives the user's request, including the malicious payload in the URL fragment.\n",
    "    - Objective: Despite receiving the payload, the website does not directly include it in the response to the user.\n",
    "4. *Legitimate Script Execution:*\n",
    "    - Description: The website processes the request and sends a response to the user's browser. The response may include legitimate client-side scripts.\n",
    "    - Objective: The user's browser executes the legitimate scripts included in the response, causing the page to render as intended.\n",
    "5. *Execution of Malicious Script:*\n",
    "    - Description: During the legitimate script execution, the browser processes the malicious payload included in the page, leading to the execution of the attacker's injected script.\n",
    "    - Objective: The attacker's script is executed in the context of the user's session, allowing it to perform malicious actions, such as stealing sensitive information.\n",
    "6. *Sensitive Information Sent to Attacker:*\n",
    "    - Description: The executed malicious script carries out actions, such as stealing user-sensitive information (ex. session cookies), which is then sent to the attacker's server.\n",
    "    - Objective: The attacker gains unauthorized access to the victim's information, potentially leading to further exploitation.\n",
    "\n",
    "\n",
    "**Popcorn Hack:**\n",
    "Provide an example of DOM-based XSS...\n",
    "\n",
    "**Example:**\n",
    "In a social media platorm, users can post links in comments. If the links are not properly verified, attackers can post a specially crafted URL with a payload. When other users click on the link, the payload executes, allowing the attacker to perform malicious actions on the users."
   ]
  },
  {
   "cell_type": "markdown",
   "metadata": {},
   "source": [
    "## CORS (Everyone's Favorite!), MVC and Nginx"
   ]
  },
  {
   "cell_type": "markdown",
   "metadata": {},
   "source": [
    "### What is CORS and what does it actually do?\n",
    "\n",
    "- CORS stands for **Cross Origin** Resource Sharing and it works to defend the the server side (APIs and the Backend)\n",
    "- When you make a request on the client side (the frontend site), your sending a request to another site which has an API, CORS works to protect sensitive data and make sure that only **authorized** websites and the site with the server to have access to the data.\n"
   ]
  },
  {
   "cell_type": "markdown",
   "metadata": {},
   "source": [
    "## Where can you find CORS and how can you modify it and add it to your site?"
   ]
  },
  {
   "cell_type": "markdown",
   "metadata": {},
   "source": [
    "If you go to any backend server you git cloned from Mr.Mort's [spring_portfolio](https://github.com/nighthawkcoders/spring_portfolio/blob/master/src/main/java/com/nighthawk/spring_portfolio/SecurityConfig.java), if you go ahead and navigate to `SecurityConfig.java` under `/src/main/java/com/nighthawk/spring_portfolio/` and scroll down, you see the following the code:"
   ]
  },
  {
   "cell_type": "code",
   "execution_count": null,
   "metadata": {},
   "outputs": [],
   "source": [
    ".cors(Customizer.withDefaults())\n",
    ".headers(headers -> headers\n",
    "    .addHeaderWriter(new StaticHeadersWriter(\"Access-Control-Allow-Credentials\", \"true\"))\n",
    "    .addHeaderWriter(new StaticHeadersWriter(\"Access-Control-Allow-ExposedHeaders\", \"*\", \"Authorization\"))\n",
    "    .addHeaderWriter(new StaticHeadersWriter(\"Access-Control-Allow-Headers\", \"Content-Type\", \"Authorization\", \"x-csrf-token\"))\n",
    "    .addHeaderWriter(new StaticHeadersWriter(\"Access-Control-Allow-MaxAge\", \"600\"))\n",
    "    .addHeaderWriter(new StaticHeadersWriter(\"Access-Control-Allow-Methods\", \"POST\", \"GET\", \"OPTIONS\", \"HEAD\"))\n",
    "    .addHeaderWriter(new StaticHeadersWriter(\"Access-Control-Allow-Origin\", \"http://link1\", \"http://link2\", \"http://link3\", \"http://link4\"))"
   ]
  },
  {
   "cell_type": "markdown",
   "metadata": {},
   "source": [
    "What this is showing is the different things that a request must include in order for a request from a site to go through"
   ]
  },
  {
   "cell_type": "markdown",
   "metadata": {},
   "source": [
    "`.addHeaderWriter(new StaticHeadersWriter(\"Access-Control-Allow-Credentials\", \"true\"))`:\n",
    "\n",
    "- This header indicates whether the **browser** should include credentials (like cookies, HTTP authentication, and client-side SSL certificates) in the request\n",
    "- This is typically used when the server needs to send and receive cookies on the requested domain.\n",
    "\n",
    "`.addHeaderWriter(new StaticHeadersWriter(\"Access-Control-Allow-ExposedHeaders\", \"*\", \"Authorization\"))`:\n",
    "\n",
    "- This header, enables you to specify **custom** headers (\"*\") and grants the browser to expose headers like \"Authorization\" to the client.\n",
    "\n",
    "`.addHeaderWriter(new StaticHeadersWriter(\"Access-Control-Allow-Headers\", \"Content-Type\", \"Authorization\", \"x-csrf-token\"))`:\n",
    "\n",
    "- This line is listing the headers that the client is allowed to use in the actual request\n",
    "\n",
    "`.addHeaderWriter(new StaticHeadersWriter(\"Access-Control-Allow-MaxAge\", \"600\"))`:\n",
    "\n",
    "- This line specifies that the results of a **preflight** request can be cached for in this case, 600 seconds\n",
    "- What this does in other words is before the actual request is received, a small request is typically sent and this request is saved for 600 seconds allowing for it so when similar calls are made, the result of the initial call is reused, this improves the performance and latency.\n",
    "\n",
    "`.addHeaderWriter(new StaticHeadersWriter(\"Access-Control-Allow-Methods\", \"POST\", \"GET\", \"OPTIONS\", \"HEAD\"))`:\n",
    "\n",
    "- This line just lists the different HTTP methods that are allowed when making a request\n",
    "\n",
    "`.addHeaderWriter(new StaticHeadersWriter(\"Access-Control-Allow-Origin\", \"http://link1\", \"http://link2\", \"http://link3\", \"http://link4\"))`:\n",
    "\n",
    "- This line simply specifies what links are allowed to make requests to the server"
   ]
  },
  {
   "cell_type": "markdown",
   "metadata": {},
   "source": [
    "### Frontend Side of CORS\n",
    "- Based on the headers you assigned in the backend, your frontend fetch request must match what you defined"
   ]
  },
  {
   "cell_type": "markdown",
   "metadata": {},
   "source": [
    "![](https://raw.githubusercontent.com/JishnuS420/BlogCSA/main/images/FrontendCORS.png)"
   ]
  },
  {
   "cell_type": "markdown",
   "metadata": {},
   "source": [
    "### Some key reminders:\n",
    "- When working with an API on the backend, in the areas where you want to protect the data, don't forget to do `import org.springframework.web.bind.annotation.CrossOrigin;` and include `@CrossOrigin` before the actual code "
   ]
  },
  {
   "cell_type": "markdown",
   "metadata": {},
   "source": [
    "## MVC and Nginx\n",
    "\n",
    "### MVC\n",
    "\n",
    "- MVC stands for **Model** View Controller, and its purpose is to build user interfaces and web applications and divides the application into three interconnected components: Model, View, and Controller\n",
    "\n",
    "Model:\n",
    "- The model is responsible for managing data and the logic and rules for manipulating the data\n",
    "- It is **independent** from the user interface and works with the View and Controller\n",
    "\n",
    "View: \n",
    "- The view is the part that works and is responsible for receiving the user input and presenting the data to the user\n",
    "- It receives **updates** from the Model and sends the user input to the Controller\n",
    "\n",
    "Controller:\n",
    "- The controller functions to update the Model and sends the updates to the View \n",
    "- It makes and handles the decisions that the user makes, updating the Model and View to adapt to it"
   ]
  },
  {
   "cell_type": "markdown",
   "metadata": {},
   "source": [
    "A great example of the MVC system would be the PersonAPI on the [spring_portfolio](https://github.com/nighthawkcoders/spring_portfolio/tree/master/src/main/java/com/nighthawk/spring_portfolio/mvc/person), where the `Person.java` is the Model, `PersonDetailsService.java` is the View, and the `PersonAPIController.java` is the controller"
   ]
  },
  {
   "cell_type": "markdown",
   "metadata": {},
   "source": [
    "### MVC functions:\n",
    "- MVC serves in order to make the code separated into different roles and parts allowing for it to be easily **maintained** and easily reusable. It also provides great extendability and makes it really easy to test the code since each part is essentially independent from each other."
   ]
  },
  {
   "cell_type": "markdown",
   "metadata": {},
   "source": [
    "### Nginx\n",
    "\n",
    "Nginx is a web server and reverse proxy server that has a wide variety of functions that enable for better performance, security, and connections between a client and the server. Some its most important features include:\n",
    "\n",
    "1. Web Server \n",
    " - Nginx is able to handle incoming HTTP and HTTP requests from the client side with high performance, and can enable for the the direct serving of **static** content to the client side\n",
    " - This enables for really efficient delivery of static resources to the web applications\n",
    "\n",
    "2. Reverse Proxy \n",
    " - Nginx is a reverse proxy server as well and what this means is it takes requests from the frontend and connects it with the backend server and takes the response from the server and sends it back to the frontend \n",
    " - This serves to shield the backend from being exposed to the internet and also enables many frontend clients to **communicate** with the backend\n",
    "\n",
    "3. Balancing Loads\n",
    " - Nginx also helps to distribute the incoming requests and traffic equally among the backend servers and as a result, prevents the backend from being overwhelmed\n",
    " - As a result, this significantly helps the performance and the maintenance of the backend server and enables for efficient communications \n",
    "\n",
    "4. SSL/TLS Termination:\n",
    " - Nginx also can **decrypt** and **encrypt** the incoming data, from the frontend, sending it to the backend server\n",
    " - This functions as a way to both ensure secure communications and also serves as a process to make the backend focus on running **logic** instead of attempting to understand the request"
   ]
  },
  {
   "cell_type": "markdown",
   "metadata": {},
   "source": [
    "## DotEnv"
   ]
  },
  {
   "cell_type": "markdown",
   "metadata": {},
   "source": [
    "### What is DotEnv?\n",
    "- DotEnv is the use of a .env file in a project to manage **sensitive information** like API keys, database credentials, and other information. \n",
    "- The term \"dotenv\" is often associated with a specific library or tool that helps load these variables into the application's environment.\n",
    "- Its purpose is to avoid putting sensitive information, such as access tokens, directly into the **source code** or **version control** and instead it is put in the .env file, which is specific to each environment."
   ]
  },
  {
   "cell_type": "markdown",
   "metadata": {},
   "source": [
    "### To make it work\n",
    "1. Navigate to your project's root directory using the command line:\n",
    "```cd /home/kaiden_d0/vscode/kaidencsablog```\n",
    "2. Initialize a new package.json file for your project:\n",
    "```npm init -y```\n",
    "3. Now, you can install dotenv:\n",
    "```npm install dotenv```"
   ]
  },
  {
   "cell_type": "markdown",
   "metadata": {},
   "source": [
    "![image](https://github.com/CSA-Tri-2/JDK-miniproject/assets/69410126/1a7686be-d69a-4e71-b7f2-97f2b3aff77b)\n",
    "![image](https://github.com/CSA-Tri-2/JDK-miniproject/assets/69410126/35c1781b-3e35-4a53-a003-922cf7931d81)\n",
    "![image](https://github.com/CSA-Tri-2/JDK-miniproject/assets/69410126/fc4178e5-c651-473c-85e7-e3ee36fa3c92)"
   ]
  },
  {
   "cell_type": "markdown",
   "metadata": {},
   "source": [
    "- Make sure to add the .env file to your .gitignore so the sensitive information is not exposed\n",
    "![image](https://github.com/CSA-Tri-2/JDK-miniproject/assets/69410126/e6889427-7e62-4305-b708-a3f300dc6c5d)\n",
    "\n",
    "### Popcorn Hack\n",
    "Make your own .env file, and make the js file display your own secret information (put screenshots).\n",
    "\n",
    "Look at the main hack below."
   ]
  },
  {
   "cell_type": "markdown",
   "metadata": {},
   "source": [
    "## Hacks\n",
    "\n",
    "- Create a PicoCTF account: [Link](https://play.picoctf.org/practice?category=1&page=1) -> go to Practice -> go to Web Exploit -> Complete any 5 challenges and blog about them.\n",
    "\n",
    "I did the first 5 challenges - GET aHEAD, Cookies, Insp3ct0r, Scavenger Hunt, and Some Assembly Required 1. It was hard because I didn't know what I was looking for or what to do. I realized that it was much easier if you had certain browsers or programs that helped you find the flags in the websites. I had to watch some videos to eventually solve these problems.\n",
    "\n",
    "- Implement DotEnv in one of your projects and document the process.\n",
    "\n",
    "<img src=\"https://github.com/TayKimmy/CSA-Repository/assets/107821010/c8dda8bb-66fe-482f-9060-bffd11ec9d8e\">\n",
    "\n",
    "This is my .env file with API keys and database information.\n",
    "\n",
    "<img src=\"https://github.com/TayKimmy/CSA-Repository/assets/107821010/8189c311-dc6d-4e24-bfda-6a21505145a8\">\n",
    "\n",
    "This is my dotenv.js file.\n",
    "\n",
    "<img src=\"https://github.com/TayKimmy/CSA-Repository/assets/107821010/57f6c30b-b4a1-46bd-9eb9-7af0527ef2e6\">\n",
    "\n",
    "This is the output from the terminal.\n",
    "\n",
    "Now, using this same idea, I implemented DotEnv in one of my own individual projects. But instead of fake API Keys and fake info, I use real info for security and to manage sensitive information.\n",
    "\n",
    "\n",
    "- Capture the TCP and TLS protocols of your own springboot server project and document the steps in a blog. (Hint: Use Wireshark to capture the data.)\n",
    "\n",
    "<img src=\"https://github.com/TayKimmy/CSA-Repository/assets/107821010/b57635c8-4f65-474b-9648-3805f08602d5\">\n",
    "\n",
    "Here is a screenshot of what Wireshark shows when I start the capture of TCP and TLS protocols. It was based of my Tri 2 Miniproject. Although the screenshot is small, the data from wireshark allows you to see the protocols sent between the client and server and allows you to see the TCP handshake taking place.\n",
    "\n",
    "- Show and explain how CORS has been used in your previous projects.\n",
    "\n",
    "In my Tri 1 Passion Project, me and my group implemented a website with many different aspects. We had a quiz, game, and a Spacebook - where users could post images. Both the quiz and the game had leaderboards where users could see the highest scores and what scores they got. Although CORS was used for each aspect, I'll explain how CORS was used in the quiz and leaderboard because those were my contributions. \n",
    "\n",
    "<img src=\"https://github.com/TayKimmy/CSA-Repository/assets/107821010/8e20c372-675e-426f-93e4-8b49923e4229\">\n",
    "\n",
    "This is what the `SecurityConfig.java` says about CORS and what is acceptable in websites that request from the API. \n",
    "\n",
    "<img src=\"https://github.com/TayKimmy/CSA-Repository/assets/107821010/3c745508-1434-4325-8a63-a8368b2cd9ac\">\n",
    "\n",
    "This is a simple GET method from the function that retrieves the quiz questions from the backend. As you can see, the frontend request matches the criteria listed in the backend. The GET method is allowed, the credentials that the frontend sends is allowed, and the backend allows any origins.\n",
    "\n",
    "\n",
    "### Extra +0.1\n",
    "\n",
    "- Find a modern example of SQL Injection, XXS, or another exploit, describe how it has been done, how it has been fixed, and how it could have been prevented.\n",
    "\n",
    "A modern example of SQL Injection is the Equifax data breach in 2017. Attackers exploited a vulnerability in the Apache Struts web application framework, which was part of the Equifax's online dispute portal. The vulnerability, CVE-2017-5638, allowed attackers to execute arbitrary commands by manipulating the \"Content-Type\" header in an HTTP request. They sent malicious requests with special payloads, injecting SQL code into the backend database. The breach occurred because Equifax failed to patch the known vulnerability in a timely manner. Equifax fixed the issue by applying necessary security patches to eliminate the vulnerability. The breach could have been prevented with a couple of actions. First, Equifax should have applied security patches as soon as they were known, fixing any vulnerabilities. Second, Equifax could have implement firewalls, such as Web Application Firewalls (WAF), to filter HTTP traffic between the application and the Internet. Equifax could have also validated user inputs to prevent any SQL injection attacks."
   ]
  }
 ],
 "metadata": {
  "kernelspec": {
   "display_name": "Java",
   "language": "java",
   "name": "java"
  },
  "language_info": {
   "codemirror_mode": "java",
   "file_extension": ".jshell",
   "mimetype": "text/x-java-source",
   "name": "java",
   "pygments_lexer": "java",
   "version": "17.0.8+7-Ubuntu-120.04.2"
  }
 },
 "nbformat": 4,
 "nbformat_minor": 2
}
