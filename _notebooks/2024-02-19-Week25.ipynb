{
 "cells": [
  {
   "cell_type": "markdown",
   "metadata": {},
   "source": [
    "---\n",
    "layout: post\n",
    "comments: true\n",
    "title: Week 25 Plans\n",
    "courses: { csa: {week: 25}}\n",
    "type: plans\n",
    "---"
   ]
  },
  {
   "cell_type": "markdown",
   "metadata": {},
   "source": [
    "## Plans\n",
    "- Work on Collegeboard FRQs\n",
    "- Try to do it in a timely manner\n",
    "- Try not to use Internet\n",
    "- Work on the connections blog\n",
    "- Prepare for final live review"
   ]
  }
 ],
 "metadata": {
  "language_info": {
   "name": "python"
  }
 },
 "nbformat": 4,
 "nbformat_minor": 2
}
