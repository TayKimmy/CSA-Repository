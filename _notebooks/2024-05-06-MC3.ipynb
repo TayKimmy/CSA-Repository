{
 "cells": [
  {
   "cell_type": "markdown",
   "metadata": {},
   "source": [
    "---\n",
    "toc: true\n",
    "layout: post\n",
    "title: Individual MC Practice 3\n",
    "type: tangibles\n",
    "courses: { csa: {week: 32} }\n",
    "---"
   ]
  },
  {
   "cell_type": "markdown",
   "metadata": {},
   "source": [
    "## My Score\n",
    "I got a 56/66, which is roughly a 34/40.\n",
    "\n",
    "## Missed Questions\n",
    "| Question # | Why I missed | How I will improve |\n",
    "| - | - | - |\n",
    "| 1 | I didn't know that dividing an int by a double results in a double value. But even if I didn't know, I could still have gotten the right answer because casting won't even work since it casts everything. | Think harder when solving problems. |\n",
    "| 5 | I didn't know that a compiler error will occur when the parameters for the constructor are the same in the parent class (String, String, Boolean) | I will study inheritance more. |\n",
    "| 7 | If there is no parenthesis next to what the double is casting, it only casts that one number. | Understand casting more. |\n",
    "| 9 | I read the answers wrong and I wasn't focused enough. | Be FOCUSED!!! |\n",
    "| 10 | I didn't know you could assign int values to double. I also in't notice that n1 and n2 were not defined. | Read the code much more efficiently. |\n",
    "| 22 | I clicked the wrong answer. | Know what choice I choose. |\n",
    "| 32 | The code actually prints down to 0 because num-- is in the front. | Read the code carefully. |\n",
    "| 40 | .getName() only works if it is not null, so we have to determine if object is not null using borrower != null. | Gain a deeper understanding of objects and runtime errors. |\n",
    "| 47 | I forgot to take the opposite of and, which is or. | FOCUS! |\n",
    "| 60 | Because of the return statements, the other if statements are not used. | Look through the code carefully. |\n",
    "\n",
    "## Reflection\n",
    "This MC was the best I took so far without any Internet help (maybe 1 or 2). Since many of the MC questions are the same or similar, doing maybe 1 or 2 more timed MCs with no Internet help will guarantee at least a 30 on the real test."
   ]
  }
 ],
 "metadata": {
  "language_info": {
   "name": "python"
  }
 },
 "nbformat": 4,
 "nbformat_minor": 2
}
