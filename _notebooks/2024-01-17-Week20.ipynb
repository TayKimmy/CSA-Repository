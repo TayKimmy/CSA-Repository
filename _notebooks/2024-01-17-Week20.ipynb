{
 "cells": [
  {
   "cell_type": "markdown",
   "metadata": {},
   "source": [
    "---\n",
    "layout: post\n",
    "comments: true\n",
    "title: Week 20 Plans\n",
    "courses: { csa: {week: 20}}\n",
    "type: plans\n",
    "---"
   ]
  },
  {
   "cell_type": "markdown",
   "metadata": {},
   "source": [
    "## Plans\n",
    "- Start working on the login/signup/account pages - look through lessons\n",
    "- Make sure to maintaina constant style and CSS\n",
    "- Figure out how to utilize JWTs\n",
    "- Look at Mort's login examples and try to conform it to our project"
   ]
  }
 ],
 "metadata": {
  "language_info": {
   "name": "python"
  }
 },
 "nbformat": 4,
 "nbformat_minor": 2
}
