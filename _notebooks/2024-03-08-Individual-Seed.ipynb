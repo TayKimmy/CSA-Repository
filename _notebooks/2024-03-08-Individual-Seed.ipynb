{
 "cells": [
  {
   "cell_type": "markdown",
   "metadata": {},
   "source": [
    "---\n",
    "layout: post\n",
    "title: Seed Inividual\n",
    "courses: { csa: {week: 26}}\n",
    "type: tangibles\n",
    "comments: true\n",
    "---"
   ]
  },
  {
   "cell_type": "markdown",
   "metadata": {},
   "source": [
    "## 100% Seed\n",
    "Last trimester, I ended the course with a 95.9%, which is greater than 93%\n",
    "\n",
    "<img width=\"858\" alt=\"image\" src=\"https://github.com/TayKimmy/CSA-Repository/assets/107821010/2a62eadf-a442-4a40-8317-0ef8b322dca8\">\n",
    "\n",
    "I also collaborated with my team and we utilized a scrum board for communication.\n",
    "\n",
    "<img width=\"1280\" alt=\"image\" src=\"https://github.com/TayKimmy/CSA-Repository/assets/107821010/e536a158-6c64-4a34-98aa-2be818b3c87c\">\n",
    "\n",
    "\n",
    "## 90% Seed\n",
    "\n",
    "\n",
    "## Github Analytics + Commits\n",
    "<img width=\"705\" alt=\"image\" src=\"https://github.com/TayKimmy/CSA-Repository/assets/107821010/f5c3fe16-dea5-40bd-ad15-2c77b39ff1c0\">\n",
    "\n",
    "Frontend Commits:\n",
    "\n",
    "<img width=\"348\" alt=\"image\" src=\"https://github.com/TayKimmy/CSA-Repository/assets/107821010/3be1c409-1f3d-46df-a9bb-0b78cd69d75b\">\n",
    "\n",
    "Backend Commits:\n",
    "\n",
    "<img width=\"347\" alt=\"image\" src=\"https://github.com/TayKimmy/CSA-Repository/assets/107821010/08f40f1a-088d-42d5-b634-5debaddb40ef\">\n",
    "\n",
    "### AP Preparation\n",
    "| Title | Link |\n",
    "| - | - |\n",
    "| 2015 MCQ | [Link](https://taykimmy.github.io/CSA-Repository//2023/12/21/Collegeboard-Quiz_IPYNB_2_.html) |\n",
    "| 2015 FRQ 1 | [Link](https://taykimmy.github.io/CSA-Repository//2024/02/24/FRQ1_IPYNB_2_.html) |\n",
    "| 2015 FRQ 2 | [Link](https://taykimmy.github.io/CSA-Repository//2024/02/24/FRQ2_IPYNB_2_.html) |\n",
    "| 2015 FRQ 3 | [Link](https://taykimmy.github.io/CSA-Repository//2024/02/24/FRQ3_IPYNB_2_.html) |\n",
    "| 2015 FRQ 4 | [Link](https://taykimmy.github.io/CSA-Repository//2024/02/24/FRQ4_IPYNB_2_.html) |\n",
    "\n",
    "### Project Work\n",
    "Here is the scrum board that our team worked on and utilized for our Tri 2 Project. \n",
    "\n",
    "<img width=\"1280\" alt=\"image\" src=\"https://github.com/TayKimmy/CSA-Repository/assets/107821010/e536a158-6c64-4a34-98aa-2be818b3c87c\">\n",
    "\n",
    "## Debugging\n",
    "[Link](https://github.com/TayKimmy/CSA-Repository/issues/14)\n",
    "\n",
    "\n",
    "<img width=\"1278\" alt=\"Screenshot 2024-03-07 223734\" src=\"https://github.com/TayKimmy/CSA-Repository/assets/107821010/07b9a288-a335-410e-9ec4-a7914688df7c\">\n",
    "\n",
    "<img width=\"1277\" alt=\"Screenshot 2024-03-07 224017\" src=\"https://github.com/TayKimmy/CSA-Repository/assets/107821010/b7b3da4a-bb1c-4a85-8f00-44375bc52b8f\">\n",
    "\n",
    "<img width=\"960\" alt=\"image\" src=\"https://github.com/TayKimmy/CSA-Repository/assets/107821010/d92458b8-fa96-4a38-87fc-c5be80126720\">\n",
    "\n",
    "<img width=\"959\" alt=\"image\" src=\"https://github.com/TayKimmy/CSA-Repository/assets/107821010/3828d618-9fc8-4487-b490-85e6e198996b\">"
   ]
  }
 ],
 "metadata": {
  "language_info": {
   "name": "python"
  }
 },
 "nbformat": 4,
 "nbformat_minor": 2
}
