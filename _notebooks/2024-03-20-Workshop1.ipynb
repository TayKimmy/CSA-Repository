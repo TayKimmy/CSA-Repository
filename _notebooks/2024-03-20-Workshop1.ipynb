{
 "cells": [
  {
   "cell_type": "markdown",
   "metadata": {},
   "source": [
    "---\n",
    "toc: true\n",
    "layout: post\n",
    "title: Workshop Hacks\n",
    "type: hacks\n",
    "courses: { csa: {week: 29} }\n",
    "---"
   ]
  },
  {
   "cell_type": "markdown",
   "metadata": {},
   "source": [
    "# Workshop 1 Hacks\n",
    "\n",
    "## Question 2: Iteration over 2D arrays (Unit 4)\n",
    "\n",
    "Situation: You are developing a game where you need to track player scores on a 2D grid representing levels and attempts.\n",
    "\n",
    "(a) Explain the concept of iteration over a 2D array in Java. Provide an example scenario where iterating over a 2D array is useful in a programming task.\n",
    "\n",
    "Iterating over a 2D array in Java means iterating over each element in the array, typically through nested for loops to iterate through both the rows and columns. This allows the user to access and use each element in the array. An example of a 2D Array is a gradebook, where the rows can represent students and the columns can represent the student's scores.\n",
    "\n",
    "(b) Code:\n",
    "\n",
    "You need to implement a method `calculateTotalScore` that takes a 2D array scores of integers representing player scores and returns the sum of all the elements in the array. Write the method signature and the method implementation. Include comments to explain your code."
   ]
  },
  {
   "cell_type": "code",
   "execution_count": 1,
   "metadata": {},
   "outputs": [
    {
     "name": "stdout",
     "output_type": "stream",
     "text": [
      "Total score: 165\n"
     ]
    }
   ],
   "source": [
    "public class Game {\n",
    "    public static int calculateTotalScore(int[][] scores) {\n",
    "        int totalScore = 0; // initializing the variable to store the scores\n",
    "\n",
    "        for (int i = 0; i < scores.length; i++) { // iterating through rows\n",
    "            for (int j = 0; j < scores[i].length; j++) { // iterating through columns\n",
    "                totalScore += scores[i][j]; // adding values to the score variable\n",
    "            }\n",
    "        }\n",
    "        return totalScore; // return the total score\n",
    "    }\n",
    "    public static void main(String[] args) { // implementation\n",
    "        int[][] playerScores = {\n",
    "            {10, 20, 30},\n",
    "            {15, 25, 35},\n",
    "            {5, 10, 15}\n",
    "        };\n",
    "\n",
    "        int totalScore = calculateTotalScore(playerScores);\n",
    "        System.out.println(\"Total score: \" + totalScore);\n",
    "    }\n",
    "}\n",
    "Game.main(null);"
   ]
  },
  {
   "cell_type": "markdown",
   "metadata": {},
   "source": [
    "## Question 3: Array (Unit 6)\n",
    "Situation: You are developing a student management system where you need to store and analyze the grades of students in a class.\n",
    "\n",
    "(a) Define an array in Java. Explain its significance and usefulness in programming.\n",
    "\n",
    "An array is a data structure that allows people to store multiple values of the same type in a single variable. Elements are stored sequentially and provide a convenient way to manage data, such as numbers, characters, and objects. They can be easily accessed, manipulated, or iterated, making them useful for tasks involving data storage and processing.\n",
    "\n",
    "(b) Code:\n",
    "\n",
    "You need to implement a method calculateAverageGrade that takes an array grades of integers representing student grades and returns the average of all the elements in the array. Write the method signature and the method implementation. Include comments to explain your code."
   ]
  },
  {
   "cell_type": "code",
   "execution_count": 2,
   "metadata": {},
   "outputs": [
    {
     "name": "stdout",
     "output_type": "stream",
     "text": [
      "Average Grade: 86.0\n"
     ]
    }
   ],
   "source": [
    "public class Grade {\n",
    "    public static double calculateAverageGrade(int[] grades) {\n",
    "        int sum = 0; // initalizing variables for the sum and the count\n",
    "        int count = grades.length;\n",
    "        \n",
    "        for (int i = 0; i < grades.length; i++) { // iterating over the array\n",
    "            sum += grades[i]; // adding the numbers to the sum\n",
    "        }\n",
    "        double average = (double) sum / count; // finding the average by diving total/count\n",
    "\n",
    "        return average; // return average grade\n",
    "    }\n",
    "\n",
    "    public static void main(String[] args) { // implementation\n",
    "        int[] studentGrades = {85, 90, 75, 92, 88};\n",
    "        \n",
    "        double averageGrade = calculateAverageGrade(studentGrades);\n",
    "        \n",
    "        System.out.println(\"Average Grade: \" + averageGrade);\n",
    "    }\n",
    "}\n",
    "Grade.main(null);"
   ]
  },
  {
   "cell_type": "markdown",
   "metadata": {},
   "source": [
    "# Workshop 2 Hacks\n",
    "\n",
    "## Question 2 - Writing Classes\n",
    "(a) Describe the different features needed to create a class and what their purpose is.\n",
    "\n",
    "Some features needed to create a class are:\n",
    "- Constructor - Initialize objects of the class\n",
    "- Methods - Define the actions that can be performed on the objects\n",
    "- Attributes - Represent the data associated with the class\n",
    "\n",
    "(b) Code:\n",
    "\n",
    "Create a Java class BankAccount to represent a simple bank account. This class should have the following attributes:\n",
    "\n",
    "accountHolder (String): The name of the account holder. balance (double): The current balance in the account. Implement the following mutator (setter) methods for the BankAccount class:\n",
    "setAccountHolder(String name): Sets the name of the account holder.\n",
    "deposit(double amount): Deposits a given amount into the account.\n",
    "withdraw(double amount): Withdraws a given amount from the account, but only if the withdrawal amount is less than or equal to the current balance. Ensure that the balance is never negative."
   ]
  },
  {
   "cell_type": "code",
   "execution_count": 7,
   "metadata": {},
   "outputs": [
    {
     "name": "stdout",
     "output_type": "stream",
     "text": [
      "Initial Balance: $5000.0\n",
      "Balance after deposit: $5500.0\n",
      "Balance after withdrawal: $5300.0\n",
      "Not enough money\n"
     ]
    }
   ],
   "source": [
    "public class BankAccount {\n",
    "    private String accountHolder;\n",
    "    private double balance;\n",
    "\n",
    "    public BankAccount(String accountHolder, double balance) {\n",
    "        this.accountHolder = accountHolder;\n",
    "        this.balance = balance;\n",
    "    }\n",
    "\n",
    "    public void setAccountHolder(String name) {\n",
    "        accountHolder = name;\n",
    "    }\n",
    "\n",
    "    public void deposit(double amount) {\n",
    "        balance += amount;\n",
    "    }\n",
    "\n",
    "    public void withdraw(double amount) {\n",
    "        if (amount <= balance) {\n",
    "            balance -= amount;\n",
    "        } else {\n",
    "            System.out.println(\"Not enough money\");\n",
    "        }\n",
    "    }\n",
    "\n",
    "    public double getBalance() {\n",
    "        return balance;\n",
    "    }\n",
    "\n",
    "    public static void main(String[] args) {\n",
    "        BankAccount account = new BankAccount(\"John Doe\", 5000.0);\n",
    "        System.out.println(\"Initial Balance: $\" + account.getBalance());\n",
    "        account.deposit(500.0);\n",
    "        System.out.println(\"Balance after deposit: $\" + account.getBalance());\n",
    "        account.withdraw(200.0);\n",
    "        System.out.println(\"Balance after withdrawal: $\" + account.getBalance());\n",
    "        account.withdraw(10000.0);\n",
    "    }\n",
    "}\n",
    "BankAccount.main(null);"
   ]
  },
  {
   "cell_type": "markdown",
   "metadata": {},
   "source": [
    "## Question 4 - Wrapper Classes:\n",
    "\n",
    "(a) Provide a brief summary of what a wrapper class is and provide a small code block showing a basic example of a wrapper class.\n",
    "\n",
    "A wrapper class is a class whose objects contain primitive data. They \"wrap\" primitive values in an object, allowed them to be passed as arguments, added to collections, etc. They allow us to represent primitive data types as objects."
   ]
  },
  {
   "cell_type": "code",
   "execution_count": 1,
   "metadata": {},
   "outputs": [
    {
     "name": "stdout",
     "output_type": "stream",
     "text": [
      "10\n"
     ]
    }
   ],
   "source": [
    "public class Wrapper {\n",
    "    public static void main(String[] args) {\n",
    "        Integer num = new Integer(10); // wrapping int primitive into Integer object\n",
    "        System.out.println(num);\n",
    "    }\n",
    "}\n",
    "Wrapper.main(null);"
   ]
  },
  {
   "cell_type": "markdown",
   "metadata": {},
   "source": [
    "(b) Create a Java wrapper class called Temperature to represent temperatures in Celsius. Your Temperature class should have the following features:\n",
    "\n",
    "Fields:\n",
    "\n",
    "A private double field to store the temperature value in Celsius.\n",
    "\n",
    "Constructor:\n",
    "\n",
    "A constructor that takes a double value representing the temperature in Celsius and initializes the field.\n",
    "\n",
    "Methods:\n",
    "\n",
    "getTemperature(): A method that returns the temperature value in Celsius. setTemperature(double value): A method that sets a new temperature value in Celsius. toFahrenheit(): A method that converts the temperature from Celsius to Fahrenheit and returns the result as a double value."
   ]
  },
  {
   "cell_type": "code",
   "execution_count": 2,
   "metadata": {},
   "outputs": [
    {
     "name": "stdout",
     "output_type": "stream",
     "text": [
      "Temperature in Celsius: 37.4\n",
      "Temperature in Fahrenheit: 99.32\n",
      "Updated Temperature in Celsius: 30.0\n"
     ]
    }
   ],
   "source": [
    "public class Temperature {\n",
    "    private double temperatureValue;\n",
    "\n",
    "    public Temperature(double temperatureValue) {\n",
    "        this.temperatureValue = temperatureValue;\n",
    "    }\n",
    "\n",
    "    public double getTemperature() {\n",
    "        return temperatureValue;\n",
    "    }\n",
    "\n",
    "    public void setTemperature(double value) {\n",
    "        temperatureValue = value;\n",
    "    }\n",
    "\n",
    "    public double toFahrenheit() {\n",
    "        return (temperatureValue * 9 / 5 + 32);\n",
    "    }\n",
    "\n",
    "    public static void main(String[] args) {\n",
    "        Temperature temp = new Temperature (37.4);\n",
    "        System.out.println(\"Temperature in Celsius: \" + temp.getTemperature());\n",
    "        System.out.println(\"Temperature in Fahrenheit: \" + temp.toFahrenheit());\n",
    "        temp.setTemperature(30.0);\n",
    "        System.out.println(\"Updated Temperature in Celsius: \" + temp.getTemperature());\n",
    "    }\n",
    "}\n",
    "Temperature.main(null);"
   ]
  },
  {
   "cell_type": "markdown",
   "metadata": {},
   "source": [
    "## Question 5 - Inheritence\n",
    "\n",
    "Situation: You are developing a program to manage a zoo, where various types of animals are kept in different enclosures. To streamline your code, you decide to use inheritance to model the relationships between different types of animals and their behaviors.\n",
    "\n",
    "(a) Explain the concept of inheritance in Java. Provide an example scenario where inheritance is useful.\n",
    "\n",
    "Inheritance is a part of OOP that allows a subclass to inherit properties of the superclass using the `extends` or `implements` keyword. The subclass can access all non-private attriburtes and methods of the superclass. This provides greater code efficiency, less redundancy, and code reuse. An example where inheritance is useful can be an employee database. The superclass can contain the generic variables such as name, age, and salary. The subclass will contain more specific information connected to that specific employee. Each type of employee may even have their own specific attritube unique to their role.\n",
    "\n",
    "(b) Code:\n",
    "\n",
    "You need to implement a Java class hierarchy to represent different types of animals in the zoo. Create a superclass Animal with basic attributes and methods common to all animals, and at least three subclasses representing specific types of animals with additional attributes and methods. Include comments to explain your code, specifically how inheritance is used."
   ]
  },
  {
   "cell_type": "code",
   "execution_count": 11,
   "metadata": {},
   "outputs": [
    {
     "name": "stdout",
     "output_type": "stream",
     "text": [
      "Information about Lion:\n",
      "Name: Lion\n",
      "Age: 5 years\n",
      "Lion is roaring.\n",
      "\n",
      "Information about Elephant:\n",
      "Name: Elephant\n",
      "Age: 10 years\n",
      "Elephant is spraying water with its trunk.\n",
      "\n",
      "Information about Penguin:\n",
      "Name: Penguin\n",
      "Age: 3 years\n",
      "Penguin is swimming.\n"
     ]
    }
   ],
   "source": [
    "public class Animal { // superclass\n",
    "    // common attributes\n",
    "    protected String name;\n",
    "    protected int age;\n",
    "\n",
    "    public Animal(String name, int age) {\n",
    "        this.name = name;\n",
    "        this.age = age;\n",
    "    }\n",
    "\n",
    "    public void eat() { // common method\n",
    "        System.out.println(name + \" is eating\");\n",
    "    }\n",
    "\n",
    "    public void displayInfo() {\n",
    "        System.out.println(\"Name: \" + name);\n",
    "        System.out.println(\"Age: \" + age + \" years\");\n",
    "    }\n",
    "}\n",
    "\n",
    "public class Lion extends Animal { // Subclass for lion\n",
    "    // Additional attribute\n",
    "    private int numberOfLionesses;\n",
    "\n",
    "    // Constructor\n",
    "    public Lion(String name, int age, int numberOfLionesses) {\n",
    "        super(name, age); // Call to superclass constructor\n",
    "        this.numberOfLionesses = numberOfLionesses;\n",
    "    }\n",
    "\n",
    "    // Additional method\n",
    "    public void roar() {\n",
    "        System.out.println(name + \" is roaring.\");\n",
    "    }\n",
    "}\n",
    "\n",
    "public class Elephant extends Animal { // Subclass for elephant\n",
    "    // Additional attribute\n",
    "    private String trunkLength;\n",
    "\n",
    "    // Constructor\n",
    "    public Elephant(String name, int age, String trunkLength) {\n",
    "        super(name, age); // Call to superclass constructor\n",
    "        this.trunkLength = trunkLength;\n",
    "    }\n",
    "\n",
    "    // Additional method\n",
    "    public void sprayWater() {\n",
    "        System.out.println(name + \" is spraying water with its trunk.\");\n",
    "    }\n",
    "}\n",
    "\n",
    "public class Penguin extends Animal { // subclass for penguin\n",
    "    // Additional attribute\n",
    "    private boolean isSwimming;\n",
    "\n",
    "    // Constructor\n",
    "    public Penguin(String name, int age, boolean isSwimming) {\n",
    "        super(name, age); // Call to superclass constructor\n",
    "        this.isSwimming = isSwimming;\n",
    "    }\n",
    "\n",
    "    // Additional method\n",
    "    public void swim() {\n",
    "        System.out.println(name + \" is swimming.\");\n",
    "    }\n",
    "}\n",
    "\n",
    "public class Main {\n",
    "    public static void main(String[] args) {\n",
    "        Lion lion = new Lion(\"Lion\", 5, 3);\n",
    "        Elephant elephant = new Elephant(\"Elephant\", 10, \"Long\");\n",
    "        Penguin penguin = new Penguin(\"Penguin\", 3, true);\n",
    "\n",
    "        System.out.println(\"Information about Lion:\");\n",
    "        lion.displayInfo();\n",
    "        lion.roar();\n",
    "        System.out.println();\n",
    "\n",
    "        System.out.println(\"Information about Elephant:\");\n",
    "        elephant.displayInfo();\n",
    "        elephant.sprayWater();\n",
    "        System.out.println();\n",
    "\n",
    "        System.out.println(\"Information about Penguin:\");\n",
    "        penguin.displayInfo();\n",
    "        penguin.swim();\n",
    "    }\n",
    "}\n",
    "Main.main(null);"
   ]
  }
 ],
 "metadata": {
  "kernelspec": {
   "display_name": "Java",
   "language": "java",
   "name": "java"
  },
  "language_info": {
   "codemirror_mode": "java",
   "file_extension": ".jshell",
   "mimetype": "text/x-java-source",
   "name": "java",
   "pygments_lexer": "java",
   "version": "17.0.8+7-Ubuntu-120.04.2"
  }
 },
 "nbformat": 4,
 "nbformat_minor": 2
}
