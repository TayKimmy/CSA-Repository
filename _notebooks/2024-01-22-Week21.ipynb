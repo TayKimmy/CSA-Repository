{
 "cells": [
  {
   "cell_type": "markdown",
   "metadata": {},
   "source": [
    "---\n",
    "layout: post\n",
    "comments: true\n",
    "title: Week 21 Plans\n",
    "courses: { csa: {week: 21}}\n",
    "type: plans\n",
    "---"
   ]
  },
  {
   "cell_type": "markdown",
   "metadata": {},
   "source": [
    "## Plans\n",
    "- Fix up the login/signup/account\n",
    "- Fetch from the backend\n",
    "- Fix the table so it looks better\n",
    "- Add new functionalities\n",
    "- People can only see the other tabs if logged in\n",
    "- JWTs"
   ]
  }
 ],
 "metadata": {
  "language_info": {
   "name": "python"
  }
 },
 "nbformat": 4,
 "nbformat_minor": 2
}
